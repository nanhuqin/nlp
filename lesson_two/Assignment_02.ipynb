{
 "cells": [
  {
   "cell_type": "markdown",
   "metadata": {},
   "source": [
    "# Assignment 2\n"
   ]
  },
  {
   "cell_type": "markdown",
   "metadata": {},
   "source": [
    "#### 1. 复习上课内容以及复现课程代码"
   ]
  },
  {
   "cell_type": "markdown",
   "metadata": {},
   "source": [
    "在本部分，你需要在复习上课内容和课程代码后，复现课程代码。 "
   ]
  },
  {
   "cell_type": "code",
   "execution_count": 1,
   "metadata": {},
   "outputs": [],
   "source": [
    "coordination_source = \"\"\"\n",
    "{name:'兰州', geoCoord:[103.73, 36.03]},\n",
    "{name:'嘉峪关', geoCoord:[98.17, 39.47]},\n",
    "{name:'西宁', geoCoord:[101.74, 36.56]},\n",
    "{name:'成都', geoCoord:[104.06, 30.67]},\n",
    "{name:'石家庄', geoCoord:[114.48, 38.03]},\n",
    "{name:'拉萨', geoCoord:[102.73, 25.04]},\n",
    "{name:'贵阳', geoCoord:[106.71, 26.57]},\n",
    "{name:'武汉', geoCoord:[114.31, 30.52]},\n",
    "{name:'郑州', geoCoord:[113.65, 34.76]},\n",
    "{name:'济南', geoCoord:[117, 36.65]},\n",
    "{name:'南京', geoCoord:[118.78, 32.04]},\n",
    "{name:'合肥', geoCoord:[117.27, 31.86]},\n",
    "{name:'杭州', geoCoord:[120.19, 30.26]},\n",
    "{name:'南昌', geoCoord:[115.89, 28.68]},\n",
    "{name:'福州', geoCoord:[119.3, 26.08]},\n",
    "{name:'广州', geoCoord:[113.23, 23.16]},\n",
    "{name:'长沙', geoCoord:[113, 28.21]},\n",
    "//{name:'海口', geoCoord:[110.35, 20.02]},\n",
    "{name:'沈阳', geoCoord:[123.38, 41.8]},\n",
    "{name:'长春', geoCoord:[125.35, 43.88]},\n",
    "{name:'哈尔滨', geoCoord:[126.63, 45.75]},\n",
    "{name:'太原', geoCoord:[112.53, 37.87]},\n",
    "{name:'西安', geoCoord:[108.95, 34.27]},\n",
    "//{name:'台湾', geoCoord:[121.30, 25.03]},\n",
    "{name:'北京', geoCoord:[116.46, 39.92]},\n",
    "{name:'上海', geoCoord:[121.48, 31.22]},\n",
    "{name:'重庆', geoCoord:[106.54, 29.59]},\n",
    "{name:'天津', geoCoord:[117.2, 39.13]},\n",
    "{name:'呼和浩特', geoCoord:[111.65, 40.82]},\n",
    "{name:'南宁', geoCoord:[108.33, 22.84]},\n",
    "//{name:'西藏', geoCoord:[91.11, 29.97]},\n",
    "{name:'银川', geoCoord:[106.27, 38.47]},\n",
    "{name:'乌鲁木齐', geoCoord:[87.68, 43.77]},\n",
    "{name:'香港', geoCoord:[114.17, 22.28]},\n",
    "{name:'澳门', geoCoord:[113.54, 22.19]}\n",
    "\"\"\""
   ]
  },
  {
   "cell_type": "code",
   "execution_count": 2,
   "metadata": {},
   "outputs": [],
   "source": [
    "import re"
   ]
  },
  {
   "cell_type": "code",
   "execution_count": 3,
   "metadata": {},
   "outputs": [],
   "source": [
    "def get_city_info(city_coordination):\n",
    "    city_location = {}\n",
    "    for line in city_coordination.split(\"\\n\"):\n",
    "        if line.startswith(\"//\"): continue\n",
    "        if line.strip() == \"\":continue\n",
    "            \n",
    "        city = re.findall(\"name:'(\\w+)'\",line)[0]\n",
    "        x_y = re.findall(\"Coord:\\[(\\d+.\\d+),\\s(\\d+.\\d+)\\]\",line)[0]\n",
    "        x_y = tuple(map(float,x_y))\n",
    "        city_location[city] = x_y\n",
    "    return city_location"
   ]
  },
  {
   "cell_type": "code",
   "execution_count": 4,
   "metadata": {},
   "outputs": [],
   "source": [
    "city_info = get_city_info(coordination_source)"
   ]
  },
  {
   "cell_type": "code",
   "execution_count": 5,
   "metadata": {},
   "outputs": [
    {
     "data": {
      "text/plain": [
       "{'兰州': (103.73, 36.03),\n",
       " '嘉峪关': (98.17, 39.47),\n",
       " '西宁': (101.74, 36.56),\n",
       " '成都': (104.06, 30.67),\n",
       " '石家庄': (114.48, 38.03),\n",
       " '拉萨': (102.73, 25.04),\n",
       " '贵阳': (106.71, 26.57),\n",
       " '武汉': (114.31, 30.52),\n",
       " '郑州': (113.65, 34.76),\n",
       " '济南': (117.0, 36.65),\n",
       " '南京': (118.78, 32.04),\n",
       " '合肥': (117.27, 31.86),\n",
       " '杭州': (120.19, 30.26),\n",
       " '南昌': (115.89, 28.68),\n",
       " '福州': (119.3, 26.08),\n",
       " '广州': (113.23, 23.16),\n",
       " '长沙': (113.0, 28.21),\n",
       " '沈阳': (123.38, 41.8),\n",
       " '长春': (125.35, 43.88),\n",
       " '哈尔滨': (126.63, 45.75),\n",
       " '太原': (112.53, 37.87),\n",
       " '西安': (108.95, 34.27),\n",
       " '北京': (116.46, 39.92),\n",
       " '上海': (121.48, 31.22),\n",
       " '重庆': (106.54, 29.59),\n",
       " '天津': (117.2, 39.13),\n",
       " '呼和浩特': (111.65, 40.82),\n",
       " '南宁': (108.33, 22.84),\n",
       " '银川': (106.27, 38.47),\n",
       " '乌鲁木齐': (87.68, 43.77),\n",
       " '香港': (114.17, 22.28),\n",
       " '澳门': (113.54, 22.19)}"
      ]
     },
     "execution_count": 5,
     "metadata": {},
     "output_type": "execute_result"
    }
   ],
   "source": [
    "city_info"
   ]
  },
  {
   "cell_type": "code",
   "execution_count": 6,
   "metadata": {},
   "outputs": [],
   "source": [
    "import networkx as nx\n",
    "import matplotlib.pyplot as plt\n",
    "%matplotlib inline\n",
    "\n",
    "plt.rcParams['font.sans-serif'] = ['SimHei']\n",
    "plt.rcParams['axes.unicode_minus'] = False\n",
    "#中文显示"
   ]
  },
  {
   "cell_type": "code",
   "execution_count": 7,
   "metadata": {},
   "outputs": [
    {
     "data": {
      "image/png": "[encoded data removed]",
      "text/plain": [
       "<Figure size 432x288 with 1 Axes>"
      ]
     },
     "metadata": {},
     "output_type": "display_data"
    }
   ],
   "source": [
    "city_graph = nx.Graph()\n",
    "city_graph.add_nodes_from(list(city_info.keys()))\n",
    "nx.draw(city_graph, city_info, with_labels=True, node_size=10) #画位置"
   ]
  },
  {
   "cell_type": "code",
   "execution_count": 8,
   "metadata": {},
   "outputs": [],
   "source": [
    "import math\n",
    "\n",
    "def geo_distance(origin, destination):\n",
    "    lat1, lon1 = origin\n",
    "    lat2, lon2 = destination\n",
    "    radius = 6371  # km\n",
    "\n",
    "    dlat = math.radians(lat2 - lat1)\n",
    "    dlon = math.radians(lon2 - lon1)\n",
    "    a = (math.sin(dlat / 2) * math.sin(dlat / 2) +\n",
    "         math.cos(math.radians(lat1)) * math.cos(math.radians(lat2)) *\n",
    "         math.sin(dlon / 2) * math.sin(dlon / 2))\n",
    "    c = 2 * math.atan2(math.sqrt(a), math.sqrt(1 - a))\n",
    "    d = radius * c\n",
    "\n",
    "    return d"
   ]
  },
  {
   "cell_type": "code",
   "execution_count": 9,
   "metadata": {},
   "outputs": [
    {
     "data": {
      "text/plain": [
       "153.5185697155768"
      ]
     },
     "execution_count": 9,
     "metadata": {},
     "output_type": "execute_result"
    }
   ],
   "source": [
    "def get_city_distance(city1,city2):\n",
    "    return geo_distance(city_info[city1],city_info[city2])\n",
    "\n",
    "get_city_distance(\"杭州\",\"上海\")"
   ]
  },
  {
   "cell_type": "code",
   "execution_count": 10,
   "metadata": {},
   "outputs": [],
   "source": [
    "threshold = 700   # defined the threshold"
   ]
  },
  {
   "cell_type": "code",
   "execution_count": 11,
   "metadata": {},
   "outputs": [],
   "source": [
    "from collections import defaultdict"
   ]
  },
  {
   "cell_type": "code",
   "execution_count": 12,
   "metadata": {},
   "outputs": [],
   "source": [
    "def build_connection(city_info):\n",
    "    cities_connection = defaultdict(list)\n",
    "    cities = list(city_info.keys())\n",
    "    for c1 in cities:\n",
    "        for c2 in cities:\n",
    "            if c1 == c2 : continue\n",
    "            \n",
    "            if get_city_distance(c1,c2) < threshold:\n",
    "                cities_connection[c1].append(c2)\n",
    "    return cities_connection\n",
    "\n",
    "cities_connection = build_connection(city_info)"
   ]
  },
  {
   "cell_type": "code",
   "execution_count": 13,
   "metadata": {},
   "outputs": [
    {
     "data": {
      "text/plain": [
       "defaultdict(list,\n",
       "            {'兰州': ['嘉峪关', '西宁', '成都', '拉萨', '贵阳', '西安', '重庆', '南宁', '银川'],\n",
       "             '嘉峪关': ['兰州', '西宁', '成都', '拉萨'],\n",
       "             '西宁': ['兰州', '嘉峪关', '成都', '拉萨', '贵阳', '重庆', '银川'],\n",
       "             '成都': ['兰州', '嘉峪关', '西宁', '拉萨', '贵阳', '西安', '重庆', '南宁', '银川'],\n",
       "             '石家庄': ['武汉',\n",
       "              '郑州',\n",
       "              '济南',\n",
       "              '南京',\n",
       "              '合肥',\n",
       "              '南昌',\n",
       "              '广州',\n",
       "              '长沙',\n",
       "              '太原',\n",
       "              '西安',\n",
       "              '北京',\n",
       "              '天津',\n",
       "              '呼和浩特'],\n",
       "             '拉萨': ['兰州', '嘉峪关', '西宁', '成都', '贵阳', '重庆', '南宁', '银川'],\n",
       "             '贵阳': ['兰州', '西宁', '成都', '拉萨', '西安', '重庆', '南宁', '银川'],\n",
       "             '武汉': ['石家庄',\n",
       "              '郑州',\n",
       "              '济南',\n",
       "              '南京',\n",
       "              '合肥',\n",
       "              '杭州',\n",
       "              '南昌',\n",
       "              '福州',\n",
       "              '广州',\n",
       "              '长沙',\n",
       "              '太原',\n",
       "              '西安',\n",
       "              '北京',\n",
       "              '天津',\n",
       "              '呼和浩特',\n",
       "              '香港',\n",
       "              '澳门'],\n",
       "             '郑州': ['石家庄',\n",
       "              '武汉',\n",
       "              '济南',\n",
       "              '南京',\n",
       "              '合肥',\n",
       "              '南昌',\n",
       "              '广州',\n",
       "              '长沙',\n",
       "              '太原',\n",
       "              '西安',\n",
       "              '北京',\n",
       "              '天津',\n",
       "              '呼和浩特',\n",
       "              '香港',\n",
       "              '澳门'],\n",
       "             '济南': ['石家庄',\n",
       "              '武汉',\n",
       "              '郑州',\n",
       "              '南京',\n",
       "              '合肥',\n",
       "              '杭州',\n",
       "              '南昌',\n",
       "              '福州',\n",
       "              '长沙',\n",
       "              '太原',\n",
       "              '北京',\n",
       "              '上海',\n",
       "              '天津',\n",
       "              '呼和浩特'],\n",
       "             '南京': ['石家庄',\n",
       "              '武汉',\n",
       "              '郑州',\n",
       "              '济南',\n",
       "              '合肥',\n",
       "              '杭州',\n",
       "              '南昌',\n",
       "              '福州',\n",
       "              '长沙',\n",
       "              '北京',\n",
       "              '上海',\n",
       "              '天津'],\n",
       "             '合肥': ['石家庄',\n",
       "              '武汉',\n",
       "              '郑州',\n",
       "              '济南',\n",
       "              '南京',\n",
       "              '杭州',\n",
       "              '南昌',\n",
       "              '福州',\n",
       "              '广州',\n",
       "              '长沙',\n",
       "              '太原',\n",
       "              '北京',\n",
       "              '上海',\n",
       "              '天津',\n",
       "              '香港',\n",
       "              '澳门'],\n",
       "             '杭州': ['武汉', '济南', '南京', '合肥', '南昌', '福州', '北京', '上海', '天津'],\n",
       "             '南昌': ['石家庄',\n",
       "              '武汉',\n",
       "              '郑州',\n",
       "              '济南',\n",
       "              '南京',\n",
       "              '合肥',\n",
       "              '杭州',\n",
       "              '福州',\n",
       "              '广州',\n",
       "              '长沙',\n",
       "              '太原',\n",
       "              '北京',\n",
       "              '上海',\n",
       "              '天津',\n",
       "              '香港',\n",
       "              '澳门'],\n",
       "             '福州': ['武汉',\n",
       "              '济南',\n",
       "              '南京',\n",
       "              '合肥',\n",
       "              '杭州',\n",
       "              '南昌',\n",
       "              '广州',\n",
       "              '上海',\n",
       "              '香港',\n",
       "              '澳门'],\n",
       "             '广州': ['石家庄',\n",
       "              '武汉',\n",
       "              '郑州',\n",
       "              '合肥',\n",
       "              '南昌',\n",
       "              '福州',\n",
       "              '长沙',\n",
       "              '太原',\n",
       "              '西安',\n",
       "              '南宁',\n",
       "              '香港',\n",
       "              '澳门'],\n",
       "             '长沙': ['石家庄',\n",
       "              '武汉',\n",
       "              '郑州',\n",
       "              '济南',\n",
       "              '南京',\n",
       "              '合肥',\n",
       "              '南昌',\n",
       "              '广州',\n",
       "              '太原',\n",
       "              '西安',\n",
       "              '北京',\n",
       "              '天津',\n",
       "              '呼和浩特',\n",
       "              '南宁',\n",
       "              '香港',\n",
       "              '澳门'],\n",
       "             '沈阳': ['长春', '哈尔滨', '上海'],\n",
       "             '长春': ['沈阳', '哈尔滨'],\n",
       "             '哈尔滨': ['沈阳', '长春'],\n",
       "             '太原': ['石家庄',\n",
       "              '武汉',\n",
       "              '郑州',\n",
       "              '济南',\n",
       "              '合肥',\n",
       "              '南昌',\n",
       "              '广州',\n",
       "              '长沙',\n",
       "              '西安',\n",
       "              '北京',\n",
       "              '天津',\n",
       "              '呼和浩特',\n",
       "              '银川',\n",
       "              '澳门'],\n",
       "             '西安': ['兰州',\n",
       "              '成都',\n",
       "              '石家庄',\n",
       "              '贵阳',\n",
       "              '武汉',\n",
       "              '郑州',\n",
       "              '广州',\n",
       "              '长沙',\n",
       "              '太原',\n",
       "              '重庆',\n",
       "              '呼和浩特',\n",
       "              '南宁',\n",
       "              '银川'],\n",
       "             '北京': ['石家庄',\n",
       "              '武汉',\n",
       "              '郑州',\n",
       "              '济南',\n",
       "              '南京',\n",
       "              '合肥',\n",
       "              '杭州',\n",
       "              '南昌',\n",
       "              '长沙',\n",
       "              '太原',\n",
       "              '天津',\n",
       "              '呼和浩特'],\n",
       "             '上海': ['济南', '南京', '合肥', '杭州', '南昌', '福州', '沈阳', '天津'],\n",
       "             '重庆': ['兰州', '西宁', '成都', '拉萨', '贵阳', '西安', '呼和浩特', '南宁', '银川'],\n",
       "             '天津': ['石家庄',\n",
       "              '武汉',\n",
       "              '郑州',\n",
       "              '济南',\n",
       "              '南京',\n",
       "              '合肥',\n",
       "              '杭州',\n",
       "              '南昌',\n",
       "              '长沙',\n",
       "              '太原',\n",
       "              '北京',\n",
       "              '上海',\n",
       "              '呼和浩特'],\n",
       "             '呼和浩特': ['石家庄',\n",
       "              '武汉',\n",
       "              '郑州',\n",
       "              '济南',\n",
       "              '长沙',\n",
       "              '太原',\n",
       "              '西安',\n",
       "              '北京',\n",
       "              '重庆',\n",
       "              '天津',\n",
       "              '银川'],\n",
       "             '南宁': ['兰州',\n",
       "              '成都',\n",
       "              '拉萨',\n",
       "              '贵阳',\n",
       "              '广州',\n",
       "              '长沙',\n",
       "              '西安',\n",
       "              '重庆',\n",
       "              '银川',\n",
       "              '香港',\n",
       "              '澳门'],\n",
       "             '银川': ['兰州',\n",
       "              '西宁',\n",
       "              '成都',\n",
       "              '拉萨',\n",
       "              '贵阳',\n",
       "              '太原',\n",
       "              '西安',\n",
       "              '重庆',\n",
       "              '呼和浩特',\n",
       "              '南宁'],\n",
       "             '香港': ['武汉', '郑州', '合肥', '南昌', '福州', '广州', '长沙', '南宁', '澳门'],\n",
       "             '澳门': ['武汉',\n",
       "              '郑州',\n",
       "              '合肥',\n",
       "              '南昌',\n",
       "              '福州',\n",
       "              '广州',\n",
       "              '长沙',\n",
       "              '太原',\n",
       "              '南宁',\n",
       "              '香港']})"
      ]
     },
     "execution_count": 13,
     "metadata": {},
     "output_type": "execute_result"
    }
   ],
   "source": [
    "cities_connection"
   ]
  },
  {
   "cell_type": "code",
   "execution_count": 14,
   "metadata": {},
   "outputs": [
    {
     "name": "stderr",
     "output_type": "stream",
     "text": [
      "/Users/orange/opt/anaconda3/lib/python3.7/site-packages/networkx/drawing/nx_pylab.py:579: MatplotlibDeprecationWarning: \n",
      "The iterable function was deprecated in Matplotlib 3.1 and will be removed in 3.3. Use np.iterable instead.\n",
      "  if not cb.iterable(width):\n"
     ]
    },
    {
     "data": {
      "image/png": "[encoded data removed]",
      "text/plain": [
       "<Figure size 432x288 with 1 Axes>"
      ]
     },
     "metadata": {},
     "output_type": "display_data"
    }
   ],
   "source": [
    "cities_connection_graph = nx.Graph(cities_connection)\n",
    "nx.draw(cities_connection_graph,city_info,with_labels=True,node_size=10) #画线"
   ]
  },
  {
   "cell_type": "code",
   "execution_count": 15,
   "metadata": {},
   "outputs": [],
   "source": [
    "from sklearn.datasets import load_boston\n",
    "import random"
   ]
  },
  {
   "cell_type": "code",
   "execution_count": 16,
   "metadata": {},
   "outputs": [],
   "source": [
    "dataset = load_boston()"
   ]
  },
  {
   "cell_type": "code",
   "execution_count": 17,
   "metadata": {},
   "outputs": [],
   "source": [
    "x,y=dataset['data'],dataset['target']"
   ]
  },
  {
   "cell_type": "code",
   "execution_count": 18,
   "metadata": {},
   "outputs": [
    {
     "data": {
      "text/plain": [
       "(506, 13)"
      ]
     },
     "execution_count": 18,
     "metadata": {},
     "output_type": "execute_result"
    }
   ],
   "source": [
    "x.shape"
   ]
  },
  {
   "cell_type": "code",
   "execution_count": 19,
   "metadata": {},
   "outputs": [
    {
     "data": {
      "text/plain": [
       "array([2.7310e-02, 0.0000e+00, 7.0700e+00, 0.0000e+00, 4.6900e-01,\n",
       "       6.4210e+00, 7.8900e+01, 4.9671e+00, 2.0000e+00, 2.4200e+02,\n",
       "       1.7800e+01, 3.9690e+02, 9.1400e+00])"
      ]
     },
     "execution_count": 19,
     "metadata": {},
     "output_type": "execute_result"
    }
   ],
   "source": [
    "x[1].shape\n",
    "x[1]"
   ]
  },
  {
   "cell_type": "code",
   "execution_count": 20,
   "metadata": {},
   "outputs": [
    {
     "data": {
      "text/plain": [
       "array(['CRIM', 'ZN', 'INDUS', 'CHAS', 'NOX', 'RM', 'AGE', 'DIS', 'RAD',\n",
       "       'TAX', 'PTRATIO', 'B', 'LSTAT'], dtype='<U7')"
      ]
     },
     "execution_count": 20,
     "metadata": {},
     "output_type": "execute_result"
    }
   ],
   "source": [
    "dataset.feature_names"
   ]
  },
  {
   "cell_type": "code",
   "execution_count": 21,
   "metadata": {},
   "outputs": [],
   "source": [
    "X_rm = x[:,5]"
   ]
  },
  {
   "cell_type": "code",
   "execution_count": 22,
   "metadata": {},
   "outputs": [
    {
     "data": {
      "text/plain": [
       "<matplotlib.collections.PathCollection at 0x1a1e135110>"
      ]
     },
     "execution_count": 22,
     "metadata": {},
     "output_type": "execute_result"
    },
    {
     "data": {
      "image/png": "[encoded data removed]",
      "text/plain": [
       "<Figure size 432x288 with 1 Axes>"
      ]
     },
     "metadata": {
      "needs_background": "light"
     },
     "output_type": "display_data"
    }
   ],
   "source": [
    "plt.scatter(X_rm,y)  #scatter散点图"
   ]
  },
  {
   "cell_type": "code",
   "execution_count": 23,
   "metadata": {},
   "outputs": [],
   "source": [
    "def price(rm, k, b):\n",
    "    return k * rm + b"
   ]
  },
  {
   "cell_type": "code",
   "execution_count": 24,
   "metadata": {},
   "outputs": [],
   "source": [
    "def loss(y,y_hat):\n",
    "    return sum((y_i - y_hat_i)**2 for y_i, y_hat_i in zip(list(y),list(y_hat)))/len(list(y)) \n",
    "#zip() 函数用于将可迭代的对象作为参数，将对象中对应的元素打包成一个个元组，然后返回由这些元组组成的列表"
   ]
  },
  {
   "cell_type": "code",
   "execution_count": 25,
   "metadata": {},
   "outputs": [],
   "source": [
    "def partial_derivative_k(x, y, y_hat): \n",
    "    n = len(y)\n",
    "    gradient = 0\n",
    "    for x_i, y_i, y_hat_i in zip(list(x),list(y),list(y_hat)):\n",
    "        gradient += (y_i-y_hat_i) * x_i\n",
    "    return -2/n * gradient\n",
    "\n",
    "def partial_derivative_b(y, y_hat):\n",
    "    n = len(y)\n",
    "    gradient = 0\n",
    "    for y_i, y_hat_i in zip(list(y),list(y_hat)):\n",
    "        gradient += (y_i-y_hat_i)\n",
    "    return -2 / n * gradient"
   ]
  },
  {
   "cell_type": "code",
   "execution_count": 26,
   "metadata": {},
   "outputs": [
    {
     "name": "stdout",
     "output_type": "stream",
     "text": [
      "Iteration 0, the loss is 311131.00949771726, parameters k is 82.66527386916204 and b is 58.368578259243634\n",
      "Iteration 1, the loss is 262242.59607471945, parameters k is 75.61235661145622 and b is 57.25786466977739\n",
      "Iteration 2, the loss is 221039.08118438735, parameters k is 69.13748300656208 and b is 56.23802252014793\n",
      "Iteration 3, the loss is 186312.45528325692, parameters k is 63.19327971639921 and b is 55.301604481439874\n",
      "Iteration 4, the loss is 157044.59904579312, parameters k is 57.736255865953666 and b is 54.441773567614774\n",
      "Iteration 5, the loss is 132377.43401836528, parameters k is 52.72648485756267 and b is 53.65225311510354\n",
      "Iteration 6, the loss is 111587.76537093875, parameters k is 48.12731226198296 and b is 52.92728086180151\n",
      "Iteration 7, the loss is 94066.07918322248, parameters k is 43.90508764913042 and b is 52.26156678950118\n",
      "Iteration 8, the loss is 79298.6726415363, parameters k is 40.02891839652465 and b is 51.65025442133156\n",
      "Iteration 9, the loss is 66852.59323733459, parameters k is 36.4704436742645 and b is 51.088885291050524\n",
      "Iteration 10, the loss is 56362.945412984474, parameters k is 33.20362695297494 and b is 50.57336632424212\n",
      "Iteration 11, the loss is 47522.19250949301, parameters k is 30.204565516682624 and b is 50.09993989277493\n",
      "Iteration 12, the loss is 40071.14036939316, parameters k is 27.451315586987825 and b is 49.66515632343527\n",
      "Iteration 13, the loss is 33791.3382509577, parameters k is 24.923731779115336 and b is 49.26584865960456\n",
      "Iteration 14, the loss is 28498.674262825247, parameters k is 22.60331971528077 and b is 48.89910949133325\n",
      "Iteration 15, the loss is 24037.977549211017, parameters k is 20.47310071706979 and b is 48.562269684296886\n",
      "Iteration 16, the loss is 20278.468971912665, parameters k is 18.517487586899513 and b is 48.25287885201209\n",
      "Iteration 17, the loss is 17109.926911655017, parameters k is 16.722170569760813 and b is 47.96868742844431\n",
      "Iteration 18, the loss is 14439.455777270841, parameters k is 15.07401266092067 and b is 47.707630209847885\n",
      "Iteration 19, the loss is 12188.762481477788, parameters k is 13.560953493640065 and b is 47.46781124542802\n",
      "Iteration 20, the loss is 10291.861034637677, parameters k is 12.171921103735718 and b is 47.247489966282565\n",
      "Iteration 21, the loss is 8693.137959498783, parameters k is 10.896750925442038 and b is 47.04506845114088\n",
      "Iteration 22, the loss is 7345.721808516386, parameters k is 9.726111425934985 and b is 46.859079735733935\n",
      "Iteration 23, the loss is 6210.108981061399, parameters k is 8.651435834448906 and b is 46.6881770802654\n",
      "Iteration 24, the loss is 5253.00555205991, parameters k is 7.6648594665064405 and b is 46.5311241164628\n",
      "Iteration 25, the loss is 4446.351156654647, parameters k is 6.759162184716215 and b is 46.38678580212324\n",
      "Iteration 26, the loss is 3766.496313020516, parameters k is 5.927715575172956 and b is 46.254120116975706\n",
      "Iteration 27, the loss is 3193.5090639843934, parameters k is 5.1644344529947155 and b is 46.13217043910563\n",
      "Iteration 28, the loss is 2710.590609484264, parameters k is 4.4637323422044775 and b is 46.02005854616661\n",
      "Iteration 29, the loss is 2303.582797308937, parameters k is 3.8204806042403616 and b is 45.916978190174994\n",
      "Iteration 30, the loss is 1960.5530326721628, parameters k is 3.2299709160724923 and b is 45.82218919887963\n",
      "Iteration 31, the loss is 1671.4444369496123, parameters k is 2.687880823410877 and b is 45.7350120605515\n",
      "Iteration 32, the loss is 1427.780998890063, parameters k is 2.1902421169864112 and b is 45.65482295257479\n",
      "Iteration 33, the loss is 1222.4190738882105, parameters k is 1.7334118005411914 and b is 45.58104917746778\n",
      "Iteration 34, the loss is 1049.3379457446215, parameters k is 1.3140454381256306 and b is 45.513164972942825\n",
      "Iteration 35, the loss is 903.463310577031, parameters k is 0.9290726857072207 and b is 45.45068766535119\n",
      "Iteration 36, the loss is 780.5185077629156, parameters k is 0.5756748280765673 and b is 45.39317413837082\n",
      "Iteration 37, the loss is 676.8991362840017, parameters k is 0.2512641567073471 and b is 45.34021759110137\n",
      "Iteration 38, the loss is 589.5673804594984, parameters k is -0.04653496230445764 and b is 45.29144456184829\n",
      "Iteration 39, the loss is 515.9629468970536, parameters k is -0.3199034687318158 and b is 45.24651219582144\n",
      "Iteration 40, the loss is 453.92800150015984, parameters k is -0.5708435642966658 and b is 45.20510573675847\n",
      "Iteration 41, the loss is 401.6439058260684, parameters k is -0.801193361075744 and b is 45.16693622412113\n",
      "Iteration 42, the loss is 357.57789802306644, parameters k is -1.0126403294021453 and b is 45.13173837901698\n",
      "Iteration 43, the loss is 320.4381551323755, parameters k is -1.2067336436494627 and b is 45.099268663379526\n",
      "Iteration 44, the loss is 289.13591926576464, parameters k is -1.3848955162221035 and b is 45.069303498207496\n",
      "Iteration 45, the loss is 262.75357726956827, parameters k is -1.5484316026729388 and b is 45.04163762782758\n",
      "Iteration 46, the loss is 240.51775803081068, parameters k is -1.6985405540736784 and b is 45.01608261821339\n",
      "Iteration 47, the loss is 221.7766586889993, parameters k is -1.8363227865245337 and b is 44.99246547837407\n",
      "Iteration 48, the loss is 205.98093500070593, parameters k is -1.9627885319622056 and b is 44.970627394726485\n",
      "Iteration 49, the loss is 192.66759559832744, parameters k is -2.0788652291671106 and b is 44.95042256919139\n",
      "Iteration 50, the loss is 181.44642795294385, parameters k is -2.1854043090435487 and b is 44.931717152513016\n",
      "Iteration 51, the loss is 171.98855807600927, parameters k is -2.2831874238149372 and b is 44.914388264997974\n",
      "Iteration 52, the loss is 164.0168085518175, parameters k is -2.3729321657078306 and b is 44.898323097509156\n",
      "Iteration 53, the loss is 157.29757221636785, parameters k is -2.455297316963463 and b is 44.88341808613728\n",
      "Iteration 54, the loss is 151.63396323416353, parameters k is -2.530887669586688 and b is 44.86957815451195\n",
      "Iteration 55, the loss is 146.86004477537531, parameters k is -2.600258450094313 and b is 44.856716018208765\n",
      "Iteration 56, the loss is 142.83596405971494, parameters k is -2.663919381634942 and b is 44.8447515461635\n",
      "Iteration 57, the loss is 139.4438521356384, parameters k is -2.7223384131994037 and b is 44.83361117442131\n",
      "Iteration 58, the loss is 136.58436818411187, parameters k is -2.7759451432052287 and b is 44.82322736793189\n",
      "Iteration 59, the loss is 134.17378703241425, parameters k is -2.825133962502616 and b is 44.81353812645303\n",
      "Iteration 60, the loss is 132.1415444893576, parameters k is -2.870266939796601 and b is 44.804486530947585\n",
      "Iteration 61, the loss is 130.42816853575982, parameters k is -2.911676470595598 and b is 44.79602032715536\n",
      "Iteration 62, the loss is 128.98353571656403, parameters k is -2.949667709066418 and b is 44.78809154329317\n",
      "Iteration 63, the loss is 127.76540161529793, parameters k is -2.984520800587576 and b is 44.780656139086126\n",
      "Iteration 64, the loss is 126.73816232713982, parameters k is -3.0164929313345836 and b is 44.77367368356246\n",
      "Iteration 65, the loss is 125.87181061931601, parameters k is -3.0458202098922915 and b is 44.76710705925449\n",
      "Iteration 66, the loss is 125.14105617540388, parameters k is -3.072719394660442 and b is 44.760922190641764\n",
      "Iteration 67, the loss is 124.52458413076559, parameters k is -3.0973894796903885 and b is 44.75508779484943\n",
      "Iteration 68, the loss is 124.00443016075899, parameters k is -3.1200131505551973 and b is 44.74957515277812\n",
      "Iteration 69, the loss is 123.56545380048452, parameters k is -3.1407581209044944 and b is 44.74435789899072\n",
      "Iteration 70, the loss is 123.19489455479855, parameters k is -3.1597783594824898 and b is 44.739411828818945\n",
      "Iteration 71, the loss is 122.88199778456686, parameters k is -3.177215216586233 and b is 44.73471472127836\n",
      "Iteration 72, the loss is 122.6176994008481, parameters k is -3.1931984582054254 and b is 44.73024617649637\n",
      "Iteration 73, the loss is 122.39436012283473, parameters k is -3.207847215409719 and b is 44.72598746646376\n",
      "Iteration 74, the loss is 122.20554150849051, parameters k is -3.221270855929356 and b is 44.72192139801772\n",
      "Iteration 75, the loss is 122.04581719152449, parameters k is -3.2335697843057627 and b is 44.7180321870542\n",
      "Iteration 76, the loss is 121.9106137905268, parameters k is -3.244836176466124 and b is 44.71430534304901\n",
      "Iteration 77, the loss is 121.79607682601606, parameters k is -3.2551546540961867 and b is 44.71072756304302\n",
      "Iteration 78, the loss is 121.6989577143426, parameters k is -3.264602903745109 and b is 44.70728663431572\n",
      "Iteration 79, the loss is 121.61651852531904, parameters k is -3.2732522451918205 and b is 44.703971345035164\n",
      "Iteration 80, the loss is 121.5464517112505, parameters k is -3.2811681532311416 and b is 44.70077140223054\n",
      "Iteration 81, the loss is 121.48681245397111, parameters k is -3.2884107366971302 and b is 44.697677356487254\n",
      "Iteration 82, the loss is 121.43596164642975, parameters k is -3.295035178228259 and b is 44.69468053281367\n",
      "Iteration 83, the loss is 121.39251783714982, parameters k is -3.3010921379918163 and b is 44.69177296717352\n",
      "Iteration 84, the loss is 121.35531672866843, parameters k is -3.3066281243212283 and b is 44.68894734821988\n",
      "Iteration 85, the loss is 121.32337704252102, parameters k is -3.3116858339779545 and b is 44.68619696380424\n",
      "Iteration 86, the loss is 121.29587175000152, parameters k is -3.316304464527348 and b is 44.683515651869506\n",
      "Iteration 87, the loss is 121.2721038252341, parameters k is -3.3205200011138816 and b is 44.68089775536738\n",
      "Iteration 88, the loss is 121.2514858096839, parameters k is -3.3243654797338213 and b is 44.678338080870645\n",
      "Iteration 89, the loss is 121.23352258897702, parameters k is -3.3278712289314947 and b is 44.67583186057725\n",
      "Iteration 90, the loss is 121.21779687707723, parameters k is -3.331065091687436 and b is 44.67337471742836\n",
      "Iteration 91, the loss is 121.20395698224391, parameters k is -3.3339726291217784 and b is 44.670962633085175\n",
      "Iteration 92, the loss is 121.1917064960903, parameters k is -3.336617307503214 and b is 44.66859191853016\n",
      "Iteration 93, the loss is 121.18079560344721, parameters k is -3.3390206699317098 and b is 44.66625918707766\n",
      "Iteration 94, the loss is 121.17101375825268, parameters k is -3.3412024939510365 and b is 44.66396132959638\n",
      "Iteration 95, the loss is 121.16218351073518, parameters k is -3.3431809362442224 and b is 44.66169549176259\n",
      "Iteration 96, the loss is 121.15415530492155, parameters k is -3.3449726654705514 and b is 44.65945905317741\n",
      "Iteration 97, the loss is 121.14680309393687, parameters k is -3.346592984215955 and b is 44.65724960819561\n",
      "Iteration 98, the loss is 121.14002064454641, parameters k is -3.348055940949013 and b is 44.65506494832559\n",
      "Iteration 99, the loss is 121.13371842259784, parameters k is -3.3493744328016386 and b is 44.65290304607169\n",
      "Iteration 100, the loss is 121.1278209680475, parameters k is -3.350560299926419 and b is 44.65076204010077\n",
      "Iteration 101, the loss is 121.12226468261451, parameters k is -3.351624412120935 and b is 44.64864022162442\n",
      "Iteration 102, the loss is 121.11699596519885, parameters k is -3.3525767483528184 and b is 44.6465360218972\n",
      "Iteration 103, the loss is 121.11196964039803, parameters k is -3.3534264697673666 and b is 44.644448000739494\n",
      "Iteration 104, the loss is 121.10714763404926, parameters k is -3.3541819867118465 and b is 44.64237483600095\n",
      "Iteration 105, the loss is 121.1024978569666, parameters k is -3.3548510202668482 and b is 44.64031531388742\n",
      "Iteration 106, the loss is 121.09799326414688, parameters k is -3.3554406587348606 and b is 44.63826832008069\n",
      "Iteration 107, the loss is 121.09361106186157, parameters k is -3.3559574094993496 and b is 44.63623283158596\n",
      "Iteration 108, the loss is 121.08933203938707, parameters k is -3.3564072466337445 and b is 44.634207909247465\n",
      "Iteration 109, the loss is 121.08514000578279, parameters k is -3.3567956546086513 and b is 44.632192690877496\n",
      "Iteration 110, the loss is 121.0810213152037, parameters k is -3.3571276684170557 and b is 44.630186384948495\n",
      "Iteration 111, the loss is 121.07696446683025, parameters k is -3.3574079104110828 and b is 44.62818826480215\n",
      "Iteration 112, the loss is 121.07295976768542, parameters k is -3.357640624119816 and b is 44.62619766333304\n",
      "Iteration 113, the loss is 121.06899904845545, parameters k is -3.3578297052955857 and b is 44.624213968108016\n",
      "Iteration 114, the loss is 121.06507542398154, parameters k is -3.3579787304158786 and b is 44.622236616885566\n",
      "Iteration 115, the loss is 121.06118309139987, parameters k is -3.358090982849377 and b is 44.620265093502354\n",
      "Iteration 116, the loss is 121.0573171600128, parameters k is -3.358169476877576 and b is 44.61829892409691\n",
      "Iteration 117, the loss is 121.05347350790286, parameters k is -3.3582169797477155 and b is 44.61633767364282\n",
      "Iteration 118, the loss is 121.0496486610865, parameters k is -3.3582360319183766 and b is 44.614380942765976\n",
      "Iteration 119, the loss is 121.04583969166326, parameters k is -3.358228965645853 and b is 44.61242836482274\n",
      "Iteration 120, the loss is 121.04204413197652, parameters k is -3.358197922047289 and b is 44.61047960321751\n",
      "Iteration 121, the loss is 121.0382599022645, parameters k is -3.35814486676541 and b is 44.60853434894016\n",
      "Iteration 122, the loss is 121.03448524968842, parameters k is -3.3580716043494614 and b is 44.60659231830527\n",
      "Iteration 123, the loss is 121.0307186969409, parameters k is -3.357979791457559 and b is 44.604653250876645\n",
      "Iteration 124, the loss is 121.0269589989355, parameters k is -3.357870948977047 and b is 44.60271690756196\n",
      "Iteration 125, the loss is 121.02320510630253, parameters k is -3.357746473151539 and b is 44.60078306886352\n",
      "Iteration 126, the loss is 121.01945613462418, parameters k is -3.3576076457960453 and b is 44.59885153327237\n",
      "Iteration 127, the loss is 121.01571133850543, parameters k is -3.357455643674923 and b is 44.59692211579405\n",
      "Iteration 128, the loss is 121.01197008972048, parameters k is -3.3572915471112594 and b is 44.59499464659518\n",
      "Iteration 129, the loss is 121.00823185879453, parameters k is -3.3571163478906803 and b is 44.59306896976089\n",
      "Iteration 130, the loss is 121.00449619948108, parameters k is -3.3569309565174 and b is 44.59114494215418\n",
      "Iteration 131, the loss is 121.00076273567898, parameters k is -3.356736208875609 and b is 44.589222432368686\n",
      "Iteration 132, the loss is 120.99703115040593, parameters k is -3.3565328723449266 and b is 44.587301319767306\n",
      "Iteration 133, the loss is 120.99330117650541, parameters k is -3.356321651414668 and b is 44.58538149359963\n",
      "Iteration 134, the loss is 120.9895725888151, parameters k is -3.356103192837991 and b is 44.58346285219164\n",
      "Iteration 135, the loss is 120.98584519756491, parameters k is -3.355878090363643 and b is 44.581545302201896\n",
      "Iteration 136, the loss is 120.98211884281363, parameters k is -3.3556468890799147 and b is 44.579628757938636\n",
      "Iteration 137, the loss is 120.97839338976064, parameters k is -3.355410089402588 and b is 44.577713140732826\n",
      "Iteration 138, the loss is 120.97466872479355, parameters k is -3.355168150736055 and b is 44.575798378362634\n",
      "Iteration 139, the loss is 120.97094475215759, parameters k is -3.3549214948343895 and b is 44.57388440452506\n",
      "Iteration 140, the loss is 120.96722139114823, parameters k is -3.3546705088869637 and b is 44.571971158350834\n",
      "Iteration 141, the loss is 120.96349857374646, parameters k is -3.3544155483511844 and b is 44.570058583959124\n",
      "Iteration 142, the loss is 120.9597762426235, parameters k is -3.3541569395530746 and b is 44.568146630048695\n",
      "Iteration 143, the loss is 120.95605434946116, parameters k is -3.3538949820747233 and b is 44.5662352495226\n",
      "Iteration 144, the loss is 120.95233285353478, parameters k is -3.3536299509460745 and b is 44.5643243991436\n",
      "Iteration 145, the loss is 120.94861172052047, parameters k is -3.3533620986570885 and b is 44.56241403921787\n",
      "Iteration 146, the loss is 120.94489092148801, parameters k is -3.353091657004997 and b is 44.56050413330458\n",
      "Iteration 147, the loss is 120.94117043205365, parameters k is -3.352818838790168 and b is 44.558594647949306\n",
      "Iteration 148, the loss is 120.93745023166512, parameters k is -3.3525438393729856 and b is 44.55668555243927\n",
      "Iteration 149, the loss is 120.93373030299983, parameters k is -3.3522668381031373 and b is 44.55477681857867\n",
      "Iteration 150, the loss is 120.93001063145637, parameters k is -3.3519879996317643 and b is 44.552868420482376\n",
      "Iteration 151, the loss is 120.92629120472745, parameters k is -3.3517074751160747 and b is 44.55096033438659\n",
      "Iteration 152, the loss is 120.92257201243889, parameters k is -3.3514254033252335 and b is 44.54905253847495\n",
      "Iteration 153, the loss is 120.91885304584596, parameters k is -3.35114191165562 and b is 44.547145012718985\n",
      "Iteration 154, the loss is 120.91513429757751, parameters k is -3.3508571170628794 and b is 44.545237738731544\n",
      "Iteration 155, the loss is 120.91141576141888, parameters k is -3.3505711269175897 and b is 44.54333069963229\n",
      "Iteration 156, the loss is 120.90769743213211, parameters k is -3.350284039790802 and b is 44.54142387992424\n",
      "Iteration 157, the loss is 120.90397930530025, parameters k is -3.3499959461752016 and b is 44.53951726538034\n",
      "Iteration 158, the loss is 120.90026137720007, parameters k is -3.349706929147167 and b is 44.53761084293944\n",
      "Iteration 159, the loss is 120.89654364469163, parameters k is -3.3494170649745723 and b is 44.53570460061072\n",
      "Iteration 160, the loss is 120.89282610512754, parameters k is -3.3491264236747726 and b is 44.53379852738597\n",
      "Iteration 161, the loss is 120.88910875627502, parameters k is -3.348835069526866 and b is 44.531892613159044\n",
      "Iteration 162, the loss is 120.88539159625147, parameters k is -3.3485430615419673 and b is 44.52998684865199\n",
      "Iteration 163, the loss is 120.88167462346816, parameters k is -3.3482504538949454 and b is 44.528081225347094\n",
      "Iteration 164, the loss is 120.87795783658514, parameters k is -3.3479572963207747 and b is 44.52617573542465\n",
      "Iteration 165, the loss is 120.87424123447133, parameters k is -3.347663634478405 and b is 44.52427037170571\n",
      "Iteration 166, the loss is 120.870524816173, parameters k is -3.3473695102848127 and b is 44.52236512759958\n",
      "Iteration 167, the loss is 120.86680858088378, parameters k is -3.3470749622216687 and b is 44.52045999705562\n",
      "Iteration 168, the loss is 120.8630925279238, parameters k is -3.3467800256168805 and b is 44.51855497451897\n",
      "Iteration 169, the loss is 120.8593766567177, parameters k is -3.346484732903057 and b is 44.51665005488994\n",
      "Iteration 170, the loss is 120.85566096678046, parameters k is -3.346189113854792 and b is 44.514745233486686\n",
      "Iteration 171, the loss is 120.85194545770035, parameters k is -3.345893195806499 and b is 44.51284050601096\n",
      "Iteration 172, the loss is 120.84823012913083, parameters k is -3.3455970038523963 and b is 44.510935868516704\n",
      "Iteration 173, the loss is 120.8445149807768, parameters k is -3.3453005610301028 and b is 44.50903131738116\n",
      "Iteration 174, the loss is 120.84080001238932, parameters k is -3.3450038884891824 and b is 44.50712684927837\n",
      "Iteration 175, the loss is 120.83708522375666, parameters k is -3.344707005645882 and b is 44.50522246115489\n",
      "Iteration 176, the loss is 120.83337061469943, parameters k is -3.3444099303251837 and b is 44.5033181502074\n",
      "Iteration 177, the loss is 120.82965618506455, parameters k is -3.344112678891215 and b is 44.50141391386225\n",
      "Iteration 178, the loss is 120.82594193472232, parameters k is -3.343815266366975 and b is 44.499509749756626\n",
      "Iteration 179, the loss is 120.82222786356137, parameters k is -3.343517706544243 and b is 44.49760565572126\n",
      "Iteration 180, the loss is 120.81851397148726, parameters k is -3.3432200120844855 and b is 44.495701629764575\n",
      "Iteration 181, the loss is 120.81480025841834, parameters k is -3.3429221946114898 and b is 44.49379767005812\n",
      "Iteration 182, the loss is 120.81108672428492, parameters k is -3.342624264796405 and b is 44.49189377492322\n",
      "Iteration 183, the loss is 120.8073733690265, parameters k is -3.342326232435817 and b is 44.48998994281867\n",
      "Iteration 184, the loss is 120.80366019259114, parameters k is -3.342028106523422 and b is 44.48808617232948\n",
      "Iteration 185, the loss is 120.79994719493345, parameters k is -3.341729895315827 and b is 44.48618246215655\n",
      "Iteration 186, the loss is 120.79623437601417, parameters k is -3.3414316063929586 and b is 44.484278811107146\n",
      "Iteration 187, the loss is 120.7925217357983, parameters k is -3.3411332467135186 and b is 44.4823752180862\n",
      "Iteration 188, the loss is 120.78880927425541, parameters k is -3.3408348226658973 and b is 44.480471682088286\n",
      "Iteration 189, the loss is 120.78509699135853, parameters k is -3.3405363401149124 and b is 44.47856820219031\n",
      "Iteration 190, the loss is 120.78138488708335, parameters k is -3.34023780444472 and b is 44.47666477754472\n",
      "Iteration 191, the loss is 120.77767296140804, parameters k is -3.3399392205982035 and b is 44.47476140737334\n",
      "Iteration 192, the loss is 120.77396121431325, parameters k is -3.339640593113142 and b is 44.472858090961694\n",
      "Iteration 193, the loss is 120.77024964578065, parameters k is -3.3393419261554076 and b is 44.47095482765374\n",
      "Iteration 194, the loss is 120.76653825579388, parameters k is -3.3390432235494463 and b is 44.46905161684714\n",
      "Iteration 195, the loss is 120.7628270443381, parameters k is -3.3387444888062583 and b is 44.46714845798881\n",
      "Iteration 196, the loss is 120.75911601139853, parameters k is -3.3384457251490876 and b is 44.465245350570925\n"
     ]
    },
    {
     "name": "stdout",
     "output_type": "stream",
     "text": [
      "Iteration 197, the loss is 120.75540515696242, parameters k is -3.3381469355370044 and b is 44.463342294127166\n",
      "Iteration 198, the loss is 120.75169448101693, parameters k is -3.337848122686555 and b is 44.46143928822935\n",
      "Iteration 199, the loss is 120.74798398354986, parameters k is -3.3375492890916374 and b is 44.4595363324843\n"
     ]
    }
   ],
   "source": [
    "k = random.random() * 200 - 100  # -100 100\n",
    "b = random.random() * 200 - 100  # -100 100\n",
    "\n",
    "learning_rate = 1e-3\n",
    "\n",
    "iteration_num = 200 \n",
    "losses = []\n",
    "for i in range(iteration_num):\n",
    "    \n",
    "    price_use_current_parameters = [price(r, k, b) for r in X_rm]  # \\hat{y}\n",
    "    \n",
    "    current_loss = loss(y, price_use_current_parameters)\n",
    "    losses.append(current_loss)\n",
    "    print(\"Iteration {}, the loss is {}, parameters k is {} and b is {}\".format(i,current_loss,k,b))\n",
    "    \n",
    "    k_gradient = partial_derivative_k(X_rm, y, price_use_current_parameters)\n",
    "    b_gradient = partial_derivative_b(y, price_use_current_parameters)\n",
    "    \n",
    "    k = k + (-1 * k_gradient) * learning_rate\n",
    "    b = b + (-1 * b_gradient) * learning_rate\n",
    "best_k = k\n",
    "best_b = b"
   ]
  },
  {
   "cell_type": "code",
   "execution_count": 27,
   "metadata": {},
   "outputs": [
    {
     "data": {
      "text/plain": [
       "[<matplotlib.lines.Line2D at 0x1a1e19fbd0>]"
      ]
     },
     "execution_count": 27,
     "metadata": {},
     "output_type": "execute_result"
    },
    {
     "data": {
      "image/png": "[encoded data removed]",
      "text/plain": [
       "<Figure size 432x288 with 1 Axes>"
      ]
     },
     "metadata": {
      "needs_background": "light"
     },
     "output_type": "display_data"
    }
   ],
   "source": [
    "plt.plot(list(range(iteration_num)),losses)"
   ]
  },
  {
   "cell_type": "code",
   "execution_count": 28,
   "metadata": {},
   "outputs": [
    {
     "data": {
      "text/plain": [
       "<matplotlib.collections.PathCollection at 0x1a1e214b50>"
      ]
     },
     "execution_count": 28,
     "metadata": {},
     "output_type": "execute_result"
    },
    {
     "data": {
      "image/png": "[encoded data removed]",
      "text/plain": [
       "<Figure size 432x288 with 1 Axes>"
      ]
     },
     "metadata": {
      "needs_background": "light"
     },
     "output_type": "display_data"
    }
   ],
   "source": [
    "price_use_best_parameters = [price(r, best_k, best_b) for r in X_rm]\n",
    "\n",
    "plt.scatter(X_rm,y)\n",
    "plt.scatter(X_rm,price_use_current_parameters)"
   ]
  },
  {
   "cell_type": "markdown",
   "metadata": {},
   "source": [
    "#### 2. 回答以下理论题目"
   ]
  },
  {
   "cell_type": "markdown",
   "metadata": {},
   "source": [
    "###       < 评阅点 >： 答案是否正确完整"
   ]
  },
  {
   "cell_type": "markdown",
   "metadata": {},
   "source": [
    "###### 2.1 What conditions are required to make the BFS return the optimal solution ?"
   ]
  },
  {
   "cell_type": "code",
   "execution_count": 34,
   "metadata": {},
   "outputs": [],
   "source": [
    "两个点的cost>=0"
   ]
  },
  {
   "cell_type": "markdown",
   "metadata": {},
   "source": [
    "##### 2.2 Is there a way to make DFS find the optimal solution ? (You may need to read some material about iterative DFS)"
   ]
  },
  {
   "cell_type": "code",
   "execution_count": null,
   "metadata": {},
   "outputs": [],
   "source": [
    "最优性剪枝。如果当前步数已超过当前最优解，就减去这一支后面的搜索。"
   ]
  },
  {
   "cell_type": "markdown",
   "metadata": {},
   "source": [
    "##### 2.3 In what conditions BFS is a better choice than DFS and vice versa ?"
   ]
  },
  {
   "cell_type": "code",
   "execution_count": null,
   "metadata": {},
   "outputs": [],
   "source": [
    "如果不需要求最优解，且可用内存小的情况下用DFS，其他情况用BFS"
   ]
  },
  {
   "cell_type": "markdown",
   "metadata": {},
   "source": [
    "##### 2.4 When can we use machine learning ?"
   ]
  },
  {
   "cell_type": "code",
   "execution_count": null,
   "metadata": {},
   "outputs": [],
   "source": [
    "存在一种学习模式，没法用数学公式精确计算出这个模式，有大量数据"
   ]
  },
  {
   "cell_type": "markdown",
   "metadata": {},
   "source": [
    "##### 2.5 What is the gradient of a function ?"
   ]
  },
  {
   "cell_type": "code",
   "execution_count": null,
   "metadata": {},
   "outputs": [],
   "source": [
    "梯度方向是函数变化最快的方向。"
   ]
  },
  {
   "cell_type": "markdown",
   "metadata": {},
   "source": [
    "##### 2.6 How can we find the maximum value of a function using the information of gradient ?"
   ]
  },
  {
   "cell_type": "code",
   "execution_count": null,
   "metadata": {},
   "outputs": [],
   "source": [
    "如果需要求解损失函数的最大值，可以通过梯度上升思想来求取。"
   ]
  },
  {
   "cell_type": "markdown",
   "metadata": {},
   "source": [
    "#### 3. 实践部分  寻找地铁路线"
   ]
  },
  {
   "cell_type": "markdown",
   "metadata": {},
   "source": [
    "### < 评阅点 >  1: 爬虫爬取数据是否完整;  2:搜索算法是否正确"
   ]
  },
  {
   "cell_type": "markdown",
   "metadata": {},
   "source": [
    "In this part, although we recommend you to use Beijing subway, you still can use the subway map of any cities that you are interested in. "
   ]
  },
  {
   "cell_type": "markdown",
   "metadata": {},
   "source": [
    "![title](img/ditu.png)"
   ]
  },
  {
   "cell_type": "markdown",
   "metadata": {},
   "source": [
    "Please using the search policy to implement an agent. This agent receives two input, one is @param start station and the other is @param destination. Your agent should give the optimal route based on Beijing Subway system."
   ]
  },
  {
   "cell_type": "markdown",
   "metadata": {},
   "source": [
    "Deadline: 2019-October-27"
   ]
  },
  {
   "cell_type": "markdown",
   "metadata": {},
   "source": [
    "#### Procedures"
   ]
  },
  {
   "cell_type": "markdown",
   "metadata": {},
   "source": [
    "#### 1. Get data from web.  "
   ]
  },
  {
   "cell_type": "markdown",
   "metadata": {},
   "source": [
    "Some tips: "
   ]
  },
  {
   "cell_type": "markdown",
   "metadata": {},
   "source": [
    "a. You might need this package: requests[https://2.python-requests.org/en/master/] to get webpages"
   ]
  },
  {
   "cell_type": "markdown",
   "metadata": {},
   "source": [
    "b.You might need to use Regular Expression and Beautiful Soap package to parse the webpages"
   ]
  },
  {
   "cell_type": "code",
   "execution_count": 35,
   "metadata": {},
   "outputs": [],
   "source": [
    "import requests\n",
    "import json\n",
    "from bs4 import BeautifulSoup"
   ]
  },
  {
   "cell_type": "code",
   "execution_count": 36,
   "metadata": {},
   "outputs": [],
   "source": [
    "headers = {'user-agent':'Mozilla/5.0 (Windows NT 6.1; WOW64) AppleWebKit/537.36 (KHTML, like Gecko) Chrome/63.0.3239.132 Safari/537.36'}"
   ]
  },
  {
   "cell_type": "code",
   "execution_count": 37,
   "metadata": {},
   "outputs": [],
   "source": [
    "def city_info():\n",
    "    url = \"http://map.amap.com/subway/index.html?&1100\"\n",
    "    responses = requests.get(url = url, headers = headers)\n",
    "    data = responses.text.encode('ISO-8859-1')\n",
    "    data = data.decode('utf-8')\n",
    "    soup = BeautifulSoup(data, 'lxml')\n",
    "    res1 = soup.find_all(class_ = 'city-list fl')[0]\n",
    "    info = {}\n",
    "    for temp in res1.find_all('a'):\n",
    "        dic = {}\n",
    "        dic['cityname'] = temp['cityname']\n",
    "        dic['id'] = temp['id']\n",
    "        dic['name'] = temp.get_text()\n",
    "        info[temp['cityname']] = dic\n",
    "    return info"
   ]
  },
  {
   "cell_type": "code",
   "execution_count": 38,
   "metadata": {},
   "outputs": [],
   "source": [
    "def subway(cityname):\n",
    "    citys = city_info()\n",
    "    city = citys[cityname]\n",
    "    city_id = city['id']\n",
    "    url = 'http://map.amap.com/service/subway?_1555502190153&srhdata=' + city_id + '_drw_' + cityname + '.json'\n",
    "    response = requests.get(url = url, headers = headers)\n",
    "    result = json.loads(response.text)\n",
    "    return result"
   ]
  },
  {
   "cell_type": "markdown",
   "metadata": {},
   "source": [
    "##### 2. Preprocessing data"
   ]
  },
  {
   "cell_type": "markdown",
   "metadata": {},
   "source": [
    "Some tips:"
   ]
  },
  {
   "cell_type": "markdown",
   "metadata": {},
   "source": [
    "a. Find a suitable way to save the data you get from the web. (Note: The way you use to save the data should be able to be used to create the graph that your agent is going to explore)"
   ]
  },
  {
   "cell_type": "code",
   "execution_count": 39,
   "metadata": {},
   "outputs": [],
   "source": [
    "def analysis_subway_info(data):\n",
    "    station_sl = {}\n",
    "    station_connection = {}\n",
    "    station_line = {}\n",
    "    for line in data['l']:\n",
    "        stations = line['st']\n",
    "        for index in range(len(stations)):\n",
    "            station = stations[index]\n",
    "            station_n = station['n']\n",
    "            station_sl[station_n] = tuple(eval(station['sl'])) #字符串转元组\n",
    "            \n",
    "            connection = station_connection.get(station_n)\n",
    "            if connection == None:\n",
    "                connection = []\n",
    "            if index - 1 >= 0:\n",
    "                connection.append(stations[index - 1]['n'])\n",
    "            if index + 1 < len(stations):\n",
    "                connection.append(stations[index + 1]['n'])\n",
    "            station_connection[station_n] = connection\n",
    "            \n",
    "            ln = station_line.get(station_n)\n",
    "            if ln == None:\n",
    "                ln = []\n",
    "            ln.append(line['x'])  #地铁线代号\n",
    "            station_line[station_n] = ln\n",
    "    return station_sl, station_connection, station_line"
   ]
  },
  {
   "cell_type": "code",
   "execution_count": 40,
   "metadata": {},
   "outputs": [],
   "source": [
    "station_info, station_connection, station_line = analysis_subway_info(subway('beijing'))"
   ]
  },
  {
   "cell_type": "markdown",
   "metadata": {},
   "source": [
    "#### 3. Build the search agent"
   ]
  },
  {
   "cell_type": "markdown",
   "metadata": {},
   "source": [
    "Build the search agent based ont he graph you built."
   ]
  },
  {
   "cell_type": "markdown",
   "metadata": {},
   "source": [
    "for example, if you use Beijing subway graoh, and you run:"
   ]
  },
  {
   "cell_type": "markdown",
   "metadata": {},
   "source": [
    "\\>>> search(\"奥体中心“，”天安门“）"
   ]
  },
  {
   "cell_type": "markdown",
   "metadata": {},
   "source": [
    "You should get the result as follows: 奥体中心 -> A ->B ->C ... -> 天安门"
   ]
  },
  {
   "cell_type": "code",
   "execution_count": 41,
   "metadata": {},
   "outputs": [],
   "source": [
    "def search(connection, start, end):\n",
    "    pathes = [[start]] # list 用来存储待搜索路径\n",
    "    visited = set() # set用来存储已搜索的节点\n",
    "    while pathes:\n",
    "        path = pathes.pop(0) #提取第一条路径\n",
    "        froniter = path[-1] #提取即将要探索的节点\n",
    "        if froniter in visited: continue #检查如果该点已经探索过 则不用再探索\n",
    "        successors = connection[froniter] #获得该点相邻的点\n",
    "        for station in successors:\n",
    "            if station in path: continue # check loop #检查会不会形成环\n",
    "            new_path = path + [station] \n",
    "            pathes.append(new_path) #bfs     #将新路径加到list里面\n",
    "            if station == end: #检查目的地是不是已经搜索到了\n",
    "                return new_path\n",
    "        visited.add(froniter)"
   ]
  },
  {
   "cell_type": "code",
   "execution_count": 42,
   "metadata": {},
   "outputs": [
    {
     "data": {
      "text/plain": [
       "['奥体中心',\n",
       " '北土城',\n",
       " '安华桥',\n",
       " '安德里北街',\n",
       " '鼓楼大街',\n",
       " '什刹海',\n",
       " '南锣鼓巷',\n",
       " '东四',\n",
       " '灯市口',\n",
       " '东单',\n",
       " '王府井',\n",
       " '天安门东']"
      ]
     },
     "execution_count": 42,
     "metadata": {},
     "output_type": "execute_result"
    }
   ],
   "source": [
    "search(station_connection, '奥体中心', '天安门东')"
   ]
  },
  {
   "cell_type": "markdown",
   "metadata": {},
   "source": [
    "### (Optional) Improve your agent to make it able to find a path based on different strategies"
   ]
  },
  {
   "cell_type": "markdown",
   "metadata": {},
   "source": [
    "###  <评阅点> : 是否正确得到不同目标下的路径。"
   ]
  },
  {
   "cell_type": "markdown",
   "metadata": {},
   "source": [
    "Some ideas you might want to try:"
   ]
  },
  {
   "cell_type": "code",
   "execution_count": 102,
   "metadata": {},
   "outputs": [],
   "source": [
    "def search_sort(connection, start, end, search_strategy):\n",
    "    pathes = [[start]] # list 用来存储待搜索路径\n",
    "    #visited = set() # set用来存储已搜索的节点\n",
    "    while pathes:\n",
    "        path = pathes.pop(0) #提取第一条路径\n",
    "        froniter = path[-1] #提取即将要探索的节点\n",
    "        if froniter == end: #排序后第一个有目的地，即为最优解\n",
    "            return path\n",
    "        #if froniter in visited: continue #检查如果该点已经探索过 则不用再探索\n",
    "        successors = connection[froniter] #获得该点相邻的点\n",
    "        for station in successors:\n",
    "            if station in path: continue # check loop #检查会不会形成环\n",
    "            new_path = path + [station] \n",
    "            pathes.append(new_path) #bfs     #将新路径加到list里面\n",
    "        pathes = search_strategy(pathes)\n",
    "        #visited.add(froniter)"
   ]
  },
  {
   "cell_type": "markdown",
   "metadata": {},
   "source": [
    "a. Find the shortest path between two stations."
   ]
  },
  {
   "cell_type": "code",
   "execution_count": 44,
   "metadata": {},
   "outputs": [],
   "source": [
    "import math\n",
    "\n",
    "def geo_distance(origin, destination):\n",
    "    lat1, lon1 = origin\n",
    "    lat2, lon2 = destination\n",
    "    radius = 6371  # km\n",
    "\n",
    "    dlat = math.radians(lat2 - lat1)\n",
    "    dlon = math.radians(lon2 - lon1)\n",
    "    a = (math.sin(dlat / 2) * math.sin(dlat / 2) +\n",
    "         math.cos(math.radians(lat1)) * math.cos(math.radians(lat2)) *\n",
    "         math.sin(dlon / 2) * math.sin(dlon / 2))\n",
    "    c = 2 * math.atan2(math.sqrt(a), math.sqrt(1 - a))\n",
    "    d = radius * c\n",
    "\n",
    "    return d"
   ]
  },
  {
   "cell_type": "code",
   "execution_count": 45,
   "metadata": {},
   "outputs": [],
   "source": [
    "def get_station_distance(station1,station2):\n",
    "    return geo_distance(station_info[station1],station_info[station2])"
   ]
  },
  {
   "cell_type": "code",
   "execution_count": 46,
   "metadata": {},
   "outputs": [
    {
     "data": {
      "text/plain": [
       "1.1051600699620139"
      ]
     },
     "execution_count": 46,
     "metadata": {},
     "output_type": "execute_result"
    }
   ],
   "source": [
    "get_station_distance(\"天安门东\", \"天安门西\")"
   ]
  },
  {
   "cell_type": "code",
   "execution_count": 47,
   "metadata": {},
   "outputs": [],
   "source": [
    "def get_distance_of_path(path):\n",
    "    distance = 0\n",
    "    for i,_ in enumerate(path[:-1]):\n",
    "        distance += get_station_distance(path[i],path[i+1])\n",
    "    return distance"
   ]
  },
  {
   "cell_type": "code",
   "execution_count": 48,
   "metadata": {},
   "outputs": [],
   "source": [
    "def sort_by_distance(pathes):\n",
    "    return sorted(pathes,key=get_distance_of_path)"
   ]
  },
  {
   "cell_type": "code",
   "execution_count": 103,
   "metadata": {},
   "outputs": [
    {
     "data": {
      "text/plain": [
       "['北京南站',\n",
       " '陶然亭',\n",
       " '菜市口',\n",
       " '宣武门',\n",
       " '西单',\n",
       " '灵境胡同',\n",
       " '西四',\n",
       " '平安里',\n",
       " '北海北',\n",
       " '南锣鼓巷',\n",
       " '什刹海',\n",
       " '鼓楼大街',\n",
       " '安德里北街',\n",
       " '安华桥',\n",
       " '北土城',\n",
       " '安贞门']"
      ]
     },
     "execution_count": 103,
     "metadata": {},
     "output_type": "execute_result"
    }
   ],
   "source": [
    "search_sort(station_connection,\"北京南站\",\"安贞门\",search_strategy=sort_by_distance)"
   ]
  },
  {
   "cell_type": "markdown",
   "metadata": {},
   "source": [
    "b. Find the path that requires minimum transfers between two stations."
   ]
  },
  {
   "cell_type": "code",
   "execution_count": 80,
   "metadata": {},
   "outputs": [],
   "source": [
    "def sameline(station1, station2): #比较两个站是不是同一条线\n",
    "    list1 = station_line[station1]\n",
    "    list2 = station_line[station2]\n",
    "    for i in list1:\n",
    "        for j in list2:\n",
    "            if i == j:\n",
    "                return True\n",
    "    return False"
   ]
  },
  {
   "cell_type": "code",
   "execution_count": 81,
   "metadata": {},
   "outputs": [],
   "source": [
    "def get_transfers_of_path(path):\n",
    "    transfers = 0\n",
    "    for i,_ in enumerate(path[:-2]):\n",
    "        if sameline(path[i], path[i + 2]) == False:\n",
    "            transfers += 1\n",
    "    return transfers"
   ]
  },
  {
   "cell_type": "code",
   "execution_count": 82,
   "metadata": {},
   "outputs": [],
   "source": [
    "def sort_by_transfers(pathes):\n",
    "    return sorted(pathes,key=get_transfers_of_path)"
   ]
  },
  {
   "cell_type": "code",
   "execution_count": 104,
   "metadata": {},
   "outputs": [
    {
     "data": {
      "text/plain": [
       "['北京南站',\n",
       " '陶然亭',\n",
       " '菜市口',\n",
       " '宣武门',\n",
       " '西单',\n",
       " '灵境胡同',\n",
       " '西四',\n",
       " '平安里',\n",
       " '新街口',\n",
       " '西直门',\n",
       " '动物园',\n",
       " '国家图书馆',\n",
       " '魏公村',\n",
       " '人民大学',\n",
       " '海淀黄庄',\n",
       " '知春里',\n",
       " '知春路',\n",
       " '西土城',\n",
       " '牡丹园',\n",
       " '健德门',\n",
       " '北土城',\n",
       " '安贞门']"
      ]
     },
     "execution_count": 104,
     "metadata": {},
     "output_type": "execute_result"
    }
   ],
   "source": [
    "search_sort(station_connection,\"北京南站\",\"安贞门\",search_strategy=sort_by_transfers)"
   ]
  },
  {
   "cell_type": "markdown",
   "metadata": {},
   "source": [
    "c. Combine the previous two ideas, find a more suitable path."
   ]
  },
  {
   "cell_type": "code",
   "execution_count": 106,
   "metadata": {},
   "outputs": [],
   "source": [
    "def get_weight_of_path(path): #假设地铁时速80km/h，约1.3km/min，换乘时间5min\n",
    "    distance = get_distance_of_path(path)\n",
    "    transfers = get_transfers_of_path(path)\n",
    "    return distance / 1.3 + transfers * 5"
   ]
  },
  {
   "cell_type": "code",
   "execution_count": 107,
   "metadata": {},
   "outputs": [],
   "source": [
    "def sort_by_weight(pathes):\n",
    "    return sorted(pathes,key=get_weight_of_path)"
   ]
  },
  {
   "cell_type": "code",
   "execution_count": 108,
   "metadata": {},
   "outputs": [
    {
     "data": {
      "text/plain": [
       "['北京南站',\n",
       " '永定门外',\n",
       " '景泰',\n",
       " '蒲黄榆',\n",
       " '天坛东门',\n",
       " '磁器口',\n",
       " '崇文门',\n",
       " '东单',\n",
       " '灯市口',\n",
       " '东四',\n",
       " '张自忠路',\n",
       " '北新桥',\n",
       " '雍和宫',\n",
       " '和平里北街',\n",
       " '和平西桥',\n",
       " '惠新西街南口',\n",
       " '安贞门']"
      ]
     },
     "execution_count": 108,
     "metadata": {},
     "output_type": "execute_result"
    }
   ],
   "source": [
    "search_sort(station_connection,\"北京南站\",\"安贞门\",search_strategy=sort_by_weight)"
   ]
  },
  {
   "cell_type": "markdown",
   "metadata": {},
   "source": [
    "Compare your results with results obtained by using some apps such as Baidu map, A map, Google map or Apple map. If there is difference, try to explanate it."
   ]
  },
  {
   "cell_type": "markdown",
   "metadata": {},
   "source": [
    "## Congratulations ! You have finished the assignment of week 2."
   ]
  },
  {
   "cell_type": "markdown",
   "metadata": {},
   "source": [
    "![title](img/agent.png)"
   ]
  },
  {
   "cell_type": "markdown",
   "metadata": {},
   "source": [
    "### If you have any suggestions regarding the teaching, please feel free to send them to my eamil (eric.lee.xiao@gmail.com) "
   ]
  }
 ],
 "metadata": {
  "kernelspec": {
   "display_name": "Python 3",
   "language": "python",
   "name": "python3"
  },
  "language_info": {
   "codemirror_mode": {
    "name": "ipython",
    "version": 3
   },
   "file_extension": ".py",
   "mimetype": "text/x-python",
   "name": "python",
   "nbconvert_exporter": "python",
   "pygments_lexer": "ipython3",
   "version": "3.7.4"
  }
 },
 "nbformat": 4,
 "nbformat_minor": 2
}
