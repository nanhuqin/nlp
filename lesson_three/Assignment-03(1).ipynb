{
 "cells": [
  {
   "cell_type": "markdown",
   "metadata": {},
   "source": [
    "## Assignment-03 First Step of Machine Learning: Model and Evaluation"
   ]
  },
  {
   "cell_type": "markdown",
   "metadata": {},
   "source": [
    "同学们，今天我们的学习了基本的机器学习概念，相比你已经对机器学习的这些方法有一个基本的认识了。值得说明的是，机器学习不仅仅是一系列方法，更重要的是一种思维体系，即：依据以往的、现有的数据，构建某种方法来解决未见过的问题。而且决策树，贝叶斯只是实现这个目标的一个方法，包括之后的神经网络。很有可能有一天，神经网络也会被淘汰，但是重要的是我们要理解机器学习的目标，就是尽可能的自动化解决未知的问题。"
   ]
  },
  {
   "cell_type": "markdown",
   "metadata": {},
   "source": [
    "![](https://timgsa.baidu.com/timg?image&quality=80&size=b9999_10000&sec=1571556399207&di=4a97dc15ad08dd49d3748d1edf6109b3&imgtype=0&src=http%3A%2F%2Fc.hiphotos.baidu.com%2Fzhidao%2Fwh%3D450%2C600%2Fsign%3Dae742c6aedcd7b89e93932873a146e91%2F5d6034a85edf8db1b16050c40223dd54574e74c7.jpg)"
   ]
  },
  {
   "cell_type": "markdown",
   "metadata": {},
   "source": [
    "## Part-1 Programming Review 编程回顾"
   ]
  },
  {
   "cell_type": "markdown",
   "metadata": {},
   "source": [
    "#### 1. Re-code the Linear-Regression Model using scikit-learning(10 points)"
   ]
  },
  {
   "cell_type": "markdown",
   "metadata": {},
   "source": [
    "<评阅点>： \n",
    "> + 是否完成线性回归模型 (4')\n",
    "+ 能够进行预测新数据(3')\n",
    "+ 能够进行可视化操作(3')"
   ]
  },
  {
   "cell_type": "code",
   "execution_count": 1,
   "metadata": {},
   "outputs": [],
   "source": [
    "# you code here"
   ]
  },
  {
   "cell_type": "code",
   "execution_count": 1,
   "metadata": {},
   "outputs": [],
   "source": [
    "import numpy as np"
   ]
  },
  {
   "cell_type": "code",
   "execution_count": 2,
   "metadata": {},
   "outputs": [],
   "source": [
    "random_data = np.random.random((20, 2))"
   ]
  },
  {
   "cell_type": "code",
   "execution_count": 3,
   "metadata": {},
   "outputs": [],
   "source": [
    "import matplotlib.pyplot as plt"
   ]
  },
  {
   "cell_type": "code",
   "execution_count": 4,
   "metadata": {},
   "outputs": [],
   "source": [
    "X = random_data[:, 0]  #X[:,0]就是取所有行的第0个数据, X[:,1] 就是取所有行的第1个数据"
   ]
  },
  {
   "cell_type": "code",
   "execution_count": 5,
   "metadata": {},
   "outputs": [],
   "source": [
    "import random"
   ]
  },
  {
   "cell_type": "code",
   "execution_count": 6,
   "metadata": {},
   "outputs": [],
   "source": [
    "def assmuing_function(x):\n",
    "    return 13.4 * x + 5 + random.randint(-5, 5)"
   ]
  },
  {
   "cell_type": "code",
   "execution_count": 7,
   "metadata": {},
   "outputs": [],
   "source": [
    "y = [assmuing_function(x) for x in X]"
   ]
  },
  {
   "cell_type": "code",
   "execution_count": 8,
   "metadata": {},
   "outputs": [],
   "source": [
    "y = np.array(y)"
   ]
  },
  {
   "cell_type": "code",
   "execution_count": 9,
   "metadata": {},
   "outputs": [],
   "source": [
    "from sklearn.linear_model import LinearRegression"
   ]
  },
  {
   "cell_type": "code",
   "execution_count": 10,
   "metadata": {},
   "outputs": [],
   "source": [
    "reg = LinearRegression().fit(X.reshape(-1, 1), y)\n",
    "#fit()就是求得训练集X的均值啊，方差啊，最大值啊，最小值啊这些训练集X固有的属性。可以理解为一个训练过程\n",
    "#reshape(-1,1)表示（任意行，1列）"
   ]
  },
  {
   "cell_type": "code",
   "execution_count": 11,
   "metadata": {},
   "outputs": [],
   "source": [
    "def f(x):\n",
    "    return reg.coef_ * x + reg.intercept_\n",
    "#coef_直线的斜率、intercept_截距"
   ]
  },
  {
   "cell_type": "code",
   "execution_count": 12,
   "metadata": {},
   "outputs": [
    {
     "data": {
      "text/plain": [
       "[<matplotlib.lines.Line2D at 0x1a167bcb10>]"
      ]
     },
     "execution_count": 12,
     "metadata": {},
     "output_type": "execute_result"
    },
    {
     "data": {
      "image/png": "[encoded data removed]",
      "text/plain": [
       "<Figure size 432x288 with 1 Axes>"
      ]
     },
     "metadata": {
      "needs_background": "light"
     },
     "output_type": "display_data"
    }
   ],
   "source": [
    "plt.scatter(X, y)\n",
    "plt.plot(X, f(X), color='red')"
   ]
  },
  {
   "cell_type": "code",
   "execution_count": 13,
   "metadata": {},
   "outputs": [
    {
     "data": {
      "text/plain": [
       "array([16.84357199])"
      ]
     },
     "execution_count": 13,
     "metadata": {},
     "output_type": "execute_result"
    }
   ],
   "source": [
    "reg.predict([[1]])"
   ]
  },
  {
   "cell_type": "markdown",
   "metadata": {},
   "source": [
    "#### 2. Complete the unfinished KNN Model using pure python to solve the previous Line-Regression problem. (8 points)"
   ]
  },
  {
   "cell_type": "markdown",
   "metadata": {},
   "source": [
    "<评阅点>:\n",
    "> + 是否完成了KNN模型 (4')\n",
    "+ 是否能够预测新的数据 (4')"
   ]
  },
  {
   "cell_type": "code",
   "execution_count": 2,
   "metadata": {},
   "outputs": [],
   "source": [
    "# you code here"
   ]
  },
  {
   "cell_type": "code",
   "execution_count": 14,
   "metadata": {},
   "outputs": [],
   "source": [
    "def knn_model(X, y):\n",
    "    return [(Xi, yi) for Xi, yi in zip(X, y)]\n",
    "#zip将对象打包成元组"
   ]
  },
  {
   "cell_type": "code",
   "execution_count": 15,
   "metadata": {},
   "outputs": [],
   "source": [
    "from scipy.spatial.distance import cosine"
   ]
  },
  {
   "cell_type": "code",
   "execution_count": 16,
   "metadata": {},
   "outputs": [],
   "source": [
    "def distance(x1, x2):\n",
    "    return cosine(x1, x2)"
   ]
  },
  {
   "cell_type": "code",
   "execution_count": 17,
   "metadata": {},
   "outputs": [],
   "source": [
    "def predict(x, k=5):\n",
    "    most_similars = sorted(knn_model(X, y), key=lambda xi: distance(xi[0], x))[:k]\n",
    "    y_hats = [_y for x, _y in most_similars]\n",
    "    print(most_similars)\n",
    "    return np.mean(y_hats)"
   ]
  },
  {
   "cell_type": "code",
   "execution_count": 18,
   "metadata": {},
   "outputs": [
    {
     "name": "stdout",
     "output_type": "stream",
     "text": [
      "[(0.6061487057344294, 9.122392656841354), (0.4598150413783919, 7.1615215544704505), (0.5850478636474047, 7.839641372875224), (0.9984222465854806, 16.378858104245438), (0.3571540366370751, 14.785864090936807)]\n"
     ]
    },
    {
     "data": {
      "text/plain": [
       "11.057655555873854"
      ]
     },
     "execution_count": 18,
     "metadata": {},
     "output_type": "execute_result"
    }
   ],
   "source": [
    "predict(1)"
   ]
  },
  {
   "cell_type": "markdown",
   "metadata": {},
   "source": [
    "#### 3. Re-code the Decision Tree, which could sort the features by salience. (12 points)"
   ]
  },
  {
   "cell_type": "markdown",
   "metadata": {},
   "source": [
    "<评阅点>\n",
    "> + 是否实现了信息熵 (1' )\n",
    "+ 是否实现了最优先特征点的选择(5')\n",
    "+ 是否实现了持续的特征选则(6')"
   ]
  },
  {
   "cell_type": "code",
   "execution_count": 3,
   "metadata": {},
   "outputs": [],
   "source": [
    "# you code here"
   ]
  },
  {
   "cell_type": "code",
   "execution_count": 19,
   "metadata": {},
   "outputs": [],
   "source": [
    "from collections import Counter"
   ]
  },
  {
   "cell_type": "code",
   "execution_count": 20,
   "metadata": {},
   "outputs": [],
   "source": [
    "from icecream import ic"
   ]
  },
  {
   "cell_type": "code",
   "execution_count": 21,
   "metadata": {},
   "outputs": [],
   "source": [
    "def entropy(elements):\n",
    "    counter = Counter(elements)\n",
    "    probs = [counter[c] / len(elements) for c in set(elements)]\n",
    "    ic(probs)\n",
    "    return - sum(p * np.log(p) for p in probs)\n",
    "#set() 函数创建一个无序不重复元素集"
   ]
  },
  {
   "cell_type": "code",
   "execution_count": 22,
   "metadata": {},
   "outputs": [
    {
     "name": "stderr",
     "output_type": "stream",
     "text": [
      "ic| probs: [0.25, 0.75]\n"
     ]
    },
    {
     "data": {
      "text/plain": [
       "0.5623351446188083"
      ]
     },
     "execution_count": 22,
     "metadata": {},
     "output_type": "execute_result"
    }
   ],
   "source": [
    "entropy([1, 1, 1, 0])"
   ]
  },
  {
   "cell_type": "code",
   "execution_count": 70,
   "metadata": {},
   "outputs": [],
   "source": [
    "mock_data = {\n",
    "    'gender': ['F', 'F', 'F', 'F', 'M', 'M', 'M'],\n",
    "    'income': ['+10', '-10', '+10', '+10', '+10', '+10', '-10'],\n",
    "    'family_number': [1, 1, 2, 1, 1, 1, 2],\n",
    "   # 'pet': [1, 1, 1, 0, 0, 0, 1],\n",
    "    'bought': [1, 1, 1, 0, 0, 0, 1],\n",
    "}"
   ]
  },
  {
   "cell_type": "code",
   "execution_count": 24,
   "metadata": {},
   "outputs": [],
   "source": [
    "import pandas as pd"
   ]
  },
  {
   "cell_type": "code",
   "execution_count": 71,
   "metadata": {},
   "outputs": [],
   "source": [
    "dataset = pd.DataFrame.from_dict(mock_data)"
   ]
  },
  {
   "cell_type": "code",
   "execution_count": 72,
   "metadata": {},
   "outputs": [
    {
     "data": {
      "text/html": [
       "<div>\n",
       "<style scoped>\n",
       "    .dataframe tbody tr th:only-of-type {\n",
       "        vertical-align: middle;\n",
       "    }\n",
       "\n",
       "    .dataframe tbody tr th {\n",
       "        vertical-align: top;\n",
       "    }\n",
       "\n",
       "    .dataframe thead th {\n",
       "        text-align: right;\n",
       "    }\n",
       "</style>\n",
       "<table border=\"1\" class=\"dataframe\">\n",
       "  <thead>\n",
       "    <tr style=\"text-align: right;\">\n",
       "      <th></th>\n",
       "      <th>gender</th>\n",
       "      <th>income</th>\n",
       "      <th>family_number</th>\n",
       "      <th>bought</th>\n",
       "    </tr>\n",
       "  </thead>\n",
       "  <tbody>\n",
       "    <tr>\n",
       "      <td>0</td>\n",
       "      <td>F</td>\n",
       "      <td>+10</td>\n",
       "      <td>1</td>\n",
       "      <td>1</td>\n",
       "    </tr>\n",
       "    <tr>\n",
       "      <td>1</td>\n",
       "      <td>F</td>\n",
       "      <td>-10</td>\n",
       "      <td>1</td>\n",
       "      <td>1</td>\n",
       "    </tr>\n",
       "    <tr>\n",
       "      <td>2</td>\n",
       "      <td>F</td>\n",
       "      <td>+10</td>\n",
       "      <td>2</td>\n",
       "      <td>1</td>\n",
       "    </tr>\n",
       "    <tr>\n",
       "      <td>3</td>\n",
       "      <td>F</td>\n",
       "      <td>+10</td>\n",
       "      <td>1</td>\n",
       "      <td>0</td>\n",
       "    </tr>\n",
       "    <tr>\n",
       "      <td>4</td>\n",
       "      <td>M</td>\n",
       "      <td>+10</td>\n",
       "      <td>1</td>\n",
       "      <td>0</td>\n",
       "    </tr>\n",
       "    <tr>\n",
       "      <td>5</td>\n",
       "      <td>M</td>\n",
       "      <td>+10</td>\n",
       "      <td>1</td>\n",
       "      <td>0</td>\n",
       "    </tr>\n",
       "    <tr>\n",
       "      <td>6</td>\n",
       "      <td>M</td>\n",
       "      <td>-10</td>\n",
       "      <td>2</td>\n",
       "      <td>1</td>\n",
       "    </tr>\n",
       "  </tbody>\n",
       "</table>\n",
       "</div>"
      ],
      "text/plain": [
       "  gender income  family_number  bought\n",
       "0      F    +10              1       1\n",
       "1      F    -10              1       1\n",
       "2      F    +10              2       1\n",
       "3      F    +10              1       0\n",
       "4      M    +10              1       0\n",
       "5      M    +10              1       0\n",
       "6      M    -10              2       1"
      ]
     },
     "execution_count": 72,
     "metadata": {},
     "output_type": "execute_result"
    }
   ],
   "source": [
    "dataset"
   ]
  },
  {
   "cell_type": "code",
   "execution_count": 48,
   "metadata": {},
   "outputs": [
    {
     "name": "stderr",
     "output_type": "stream",
     "text": [
      "ic| probs: [0.25, 0.75]\n",
      "ic| probs: [0.6666666666666666, 0.3333333333333333]\n",
      "ic| probs: [0.6, 0.4]\n",
      "ic| probs: [1.0]\n",
      "ic| probs: [0.6, 0.4]\n",
      "ic| probs: [1.0]\n"
     ]
    },
    {
     "name": "stdout",
     "output_type": "stream",
     "text": [
      "1.198849312913621\n",
      "0.6730116670092565\n",
      "0.6730116670092565\n"
     ]
    }
   ],
   "source": [
    "# split by gender:\n",
    "print(entropy([1, 1, 1, 0]) + entropy([0, 0, 1]))\n",
    "# income:\n",
    "print(entropy([1, 1, 0, 0, 0]) + entropy([1, 1]))\n",
    "# family_number:\n",
    "print(entropy([1, 1, 0, 0, 0]) + entropy([1, 1]))\n",
    "# pet\n",
    "#print(entropy([1, 1, 1, 1]) + entropy([0, 0, 0]))"
   ]
  },
  {
   "cell_type": "code",
   "execution_count": 49,
   "metadata": {},
   "outputs": [],
   "source": [
    "def find_the_optimal_spilter(training_data: pd.DataFrame, target: str) -> str:\n",
    "    x_fields = set(training_data.columns.tolist()) - {target}\n",
    "    print(x_fields)\n",
    "    \n",
    "    spliter = None\n",
    "    min_entropy = float('inf')\n",
    "    print(min_entropy)\n",
    "    \n",
    "    for f in x_fields:\n",
    "        ic(f)\n",
    "        values = set(training_data[f])\n",
    "        ic(values)\n",
    "        for v in values:\n",
    "            sub_spliter_1 = training_data[training_data[f] == v][target].tolist()\n",
    "            ic(sub_spliter_1)\n",
    "            \n",
    "            entropy_1 = entropy(sub_spliter_1)\n",
    "            ic(entropy_1)\n",
    "            \n",
    "            sub_spliter_2 = training_data[training_data[f] != v][target].tolist()\n",
    "            ic(sub_spliter_2)\n",
    "            \n",
    "            entropy_2 = entropy(sub_spliter_2)\n",
    "            ic(entropy_2)\n",
    "            \n",
    "            entropy_v = entropy_1 + entropy_2\n",
    "            ic(entropy_v)\n",
    "            \n",
    "            if entropy_v <= min_entropy:\n",
    "                min_entropy = entropy_v\n",
    "                spliter = (f, v)\n",
    "    print('spliter is: {}'.format(spliter))\n",
    "    print('the min entropy is: {}'.format(min_entropy))\n",
    "    \n",
    "    return spliter"
   ]
  },
  {
   "cell_type": "code",
   "execution_count": 73,
   "metadata": {},
   "outputs": [
    {
     "name": "stderr",
     "output_type": "stream",
     "text": [
      "ic| f: 'income'\n",
      "ic| values: {'+10', '-10'}\n",
      "ic| sub_spliter_1: [1, 1, 0, 0, 0]\n",
      "ic| probs: [0.6, 0.4]\n",
      "ic| entropy_1: 0.6730116670092565\n",
      "ic| sub_spliter_2: [1, 1]\n",
      "ic| probs: [1.0]\n",
      "ic| entropy_2: -0.0\n",
      "ic| entropy_v: 0.6730116670092565\n",
      "ic| sub_spliter_1: [1, 1]\n",
      "ic| probs: [1.0]\n",
      "ic| entropy_1: -0.0\n",
      "ic| sub_spliter_2: [1, 1, 0, 0, 0]\n",
      "ic| probs: [0.6, 0.4]\n"
     ]
    },
    {
     "name": "stdout",
     "output_type": "stream",
     "text": [
      "{'income', 'family_number', 'gender'}\n",
      "inf\n"
     ]
    },
    {
     "name": "stderr",
     "output_type": "stream",
     "text": [
      "ic| entropy_2: 0.6730116670092565\n",
      "ic| entropy_v: 0.6730116670092565\n",
      "ic| f: 'family_number'\n",
      "ic| values: {1, 2}\n",
      "ic| sub_spliter_1: [1, 1, 0, 0, 0]\n",
      "ic| probs: [0.6, 0.4]\n",
      "ic| entropy_1: 0.6730116670092565\n",
      "ic| sub_spliter_2: [1, 1]\n",
      "ic| probs: [1.0]\n",
      "ic| entropy_2: -0.0\n",
      "ic| entropy_v: 0.6730116670092565\n",
      "ic| sub_spliter_1: [1, 1]\n",
      "ic| probs: [1.0]\n",
      "ic| entropy_1: -0.0\n",
      "ic| sub_spliter_2: [1, 1, 0, 0, 0]\n",
      "ic| probs: [0.6, 0.4]\n",
      "ic| entropy_2: 0.6730116670092565\n",
      "ic| entropy_v: 0.6730116670092565\n",
      "ic| f: 'gender'\n",
      "ic| values: {'M', 'F'}\n",
      "ic| sub_spliter_1: [0, 0, 1]\n",
      "ic| probs: [0.6666666666666666, 0.3333333333333333]\n",
      "ic| entropy_1: 0.6365141682948128\n",
      "ic| sub_spliter_2: [1, 1, 1, 0]\n",
      "ic| probs: [0.25, 0.75]\n",
      "ic| entropy_2: 0.5623351446188083\n",
      "ic| entropy_v: 1.198849312913621\n",
      "ic| sub_spliter_1: [1, 1, 1, 0]\n",
      "ic| probs: [0.25, 0.75]\n",
      "ic| entropy_1: 0.5623351446188083\n",
      "ic| sub_spliter_2: [0, 0, 1]\n",
      "ic| probs: [0.6666666666666666, 0.3333333333333333]\n",
      "ic| entropy_2: 0.6365141682948128\n",
      "ic| entropy_v: 1.198849312913621\n"
     ]
    },
    {
     "name": "stdout",
     "output_type": "stream",
     "text": [
      "spliter is: ('family_number', 2)\n",
      "the min entropy is: 0.6730116670092565\n"
     ]
    },
    {
     "data": {
      "text/plain": [
       "('family_number', 2)"
      ]
     },
     "execution_count": 73,
     "metadata": {},
     "output_type": "execute_result"
    }
   ],
   "source": [
    "find_the_optimal_spilter(training_data=dataset, target='bought')"
   ]
  },
  {
   "cell_type": "code",
   "execution_count": 74,
   "metadata": {},
   "outputs": [
    {
     "data": {
      "text/html": [
       "<div>\n",
       "<style scoped>\n",
       "    .dataframe tbody tr th:only-of-type {\n",
       "        vertical-align: middle;\n",
       "    }\n",
       "\n",
       "    .dataframe tbody tr th {\n",
       "        vertical-align: top;\n",
       "    }\n",
       "\n",
       "    .dataframe thead th {\n",
       "        text-align: right;\n",
       "    }\n",
       "</style>\n",
       "<table border=\"1\" class=\"dataframe\">\n",
       "  <thead>\n",
       "    <tr style=\"text-align: right;\">\n",
       "      <th></th>\n",
       "      <th>gender</th>\n",
       "      <th>income</th>\n",
       "      <th>family_number</th>\n",
       "      <th>bought</th>\n",
       "    </tr>\n",
       "  </thead>\n",
       "  <tbody>\n",
       "    <tr>\n",
       "      <td>0</td>\n",
       "      <td>F</td>\n",
       "      <td>+10</td>\n",
       "      <td>1</td>\n",
       "      <td>1</td>\n",
       "    </tr>\n",
       "    <tr>\n",
       "      <td>1</td>\n",
       "      <td>F</td>\n",
       "      <td>-10</td>\n",
       "      <td>1</td>\n",
       "      <td>1</td>\n",
       "    </tr>\n",
       "    <tr>\n",
       "      <td>3</td>\n",
       "      <td>F</td>\n",
       "      <td>+10</td>\n",
       "      <td>1</td>\n",
       "      <td>0</td>\n",
       "    </tr>\n",
       "    <tr>\n",
       "      <td>4</td>\n",
       "      <td>M</td>\n",
       "      <td>+10</td>\n",
       "      <td>1</td>\n",
       "      <td>0</td>\n",
       "    </tr>\n",
       "    <tr>\n",
       "      <td>5</td>\n",
       "      <td>M</td>\n",
       "      <td>+10</td>\n",
       "      <td>1</td>\n",
       "      <td>0</td>\n",
       "    </tr>\n",
       "  </tbody>\n",
       "</table>\n",
       "</div>"
      ],
      "text/plain": [
       "  gender income  family_number  bought\n",
       "0      F    +10              1       1\n",
       "1      F    -10              1       1\n",
       "3      F    +10              1       0\n",
       "4      M    +10              1       0\n",
       "5      M    +10              1       0"
      ]
     },
     "execution_count": 74,
     "metadata": {},
     "output_type": "execute_result"
    }
   ],
   "source": [
    "dataset[dataset['family_number'] == 1]"
   ]
  },
  {
   "cell_type": "code",
   "execution_count": 75,
   "metadata": {},
   "outputs": [
    {
     "name": "stderr",
     "output_type": "stream",
     "text": [
      "ic| f: 'income'\n",
      "ic| values: {'+10', '-10'}\n",
      "ic| sub_spliter_1: [1, 0, 0, 0]\n",
      "ic| probs: [0.75, 0.25]\n",
      "ic| entropy_1: 0.5623351446188083\n",
      "ic| sub_spliter_2: [1]\n",
      "ic| probs: [1.0]\n",
      "ic| entropy_2: -0.0\n",
      "ic| entropy_v: 0.5623351446188083\n",
      "ic| sub_spliter_1: [1]\n",
      "ic| probs: [1.0]\n",
      "ic| entropy_1: -0.0\n",
      "ic| sub_spliter_2: [1, 0, 0, 0]\n",
      "ic| probs: [0.75, 0.25]\n"
     ]
    },
    {
     "name": "stdout",
     "output_type": "stream",
     "text": [
      "{'income', 'family_number', 'gender'}\n",
      "inf\n"
     ]
    },
    {
     "name": "stderr",
     "output_type": "stream",
     "text": [
      "ic| entropy_2: 0.5623351446188083\n",
      "ic| entropy_v: 0.5623351446188083\n",
      "ic| f: 'family_number'\n",
      "ic| values: {1}\n",
      "ic| sub_spliter_1: [1, 1, 0, 0, 0]\n",
      "ic| probs: [0.6, 0.4]\n",
      "ic| entropy_1: 0.6730116670092565\n",
      "ic| sub_spliter_2: []\n",
      "ic| probs: []\n",
      "ic| entropy_2: 0\n",
      "ic| entropy_v: 0.6730116670092565\n",
      "ic| f: 'gender'\n",
      "ic| values: {'M', 'F'}\n",
      "ic| sub_spliter_1: [0, 0]\n",
      "ic| probs: [1.0]\n",
      "ic| entropy_1: -0.0\n",
      "ic| sub_spliter_2: [1, 1, 0]\n",
      "ic| probs: [0.3333333333333333, 0.6666666666666666]\n",
      "ic| entropy_2: 0.6365141682948128\n",
      "ic| entropy_v: 0.6365141682948128\n",
      "ic| sub_spliter_1: [1, 1, 0]\n",
      "ic| probs: [0.3333333333333333, 0.6666666666666666]\n",
      "ic| entropy_1: 0.6365141682948128\n",
      "ic| sub_spliter_2: [0, 0]\n",
      "ic| probs: [1.0]\n",
      "ic| entropy_2: -0.0\n",
      "ic| entropy_v: 0.6365141682948128\n"
     ]
    },
    {
     "name": "stdout",
     "output_type": "stream",
     "text": [
      "spliter is: ('income', '-10')\n",
      "the min entropy is: 0.5623351446188083\n"
     ]
    },
    {
     "data": {
      "text/plain": [
       "('income', '-10')"
      ]
     },
     "execution_count": 75,
     "metadata": {},
     "output_type": "execute_result"
    }
   ],
   "source": [
    "find_the_optimal_spilter(dataset[dataset['family_number'] == 1], 'bought')"
   ]
  },
  {
   "cell_type": "code",
   "execution_count": 76,
   "metadata": {},
   "outputs": [
    {
     "name": "stderr",
     "output_type": "stream",
     "text": [
      "/Users/orange/opt/anaconda3/lib/python3.7/site-packages/ipykernel_launcher.py:1: UserWarning: Boolean Series key will be reindexed to match DataFrame index.\n",
      "  \"\"\"Entry point for launching an IPython kernel.\n"
     ]
    },
    {
     "data": {
      "text/html": [
       "<div>\n",
       "<style scoped>\n",
       "    .dataframe tbody tr th:only-of-type {\n",
       "        vertical-align: middle;\n",
       "    }\n",
       "\n",
       "    .dataframe tbody tr th {\n",
       "        vertical-align: top;\n",
       "    }\n",
       "\n",
       "    .dataframe thead th {\n",
       "        text-align: right;\n",
       "    }\n",
       "</style>\n",
       "<table border=\"1\" class=\"dataframe\">\n",
       "  <thead>\n",
       "    <tr style=\"text-align: right;\">\n",
       "      <th></th>\n",
       "      <th>gender</th>\n",
       "      <th>income</th>\n",
       "      <th>family_number</th>\n",
       "      <th>bought</th>\n",
       "    </tr>\n",
       "  </thead>\n",
       "  <tbody>\n",
       "    <tr>\n",
       "      <td>0</td>\n",
       "      <td>F</td>\n",
       "      <td>+10</td>\n",
       "      <td>1</td>\n",
       "      <td>1</td>\n",
       "    </tr>\n",
       "    <tr>\n",
       "      <td>3</td>\n",
       "      <td>F</td>\n",
       "      <td>+10</td>\n",
       "      <td>1</td>\n",
       "      <td>0</td>\n",
       "    </tr>\n",
       "    <tr>\n",
       "      <td>4</td>\n",
       "      <td>M</td>\n",
       "      <td>+10</td>\n",
       "      <td>1</td>\n",
       "      <td>0</td>\n",
       "    </tr>\n",
       "    <tr>\n",
       "      <td>5</td>\n",
       "      <td>M</td>\n",
       "      <td>+10</td>\n",
       "      <td>1</td>\n",
       "      <td>0</td>\n",
       "    </tr>\n",
       "  </tbody>\n",
       "</table>\n",
       "</div>"
      ],
      "text/plain": [
       "  gender income  family_number  bought\n",
       "0      F    +10              1       1\n",
       "3      F    +10              1       0\n",
       "4      M    +10              1       0\n",
       "5      M    +10              1       0"
      ]
     },
     "execution_count": 76,
     "metadata": {},
     "output_type": "execute_result"
    }
   ],
   "source": [
    "dataset[dataset['family_number'] != 2][dataset['income'] == '+10']"
   ]
  },
  {
   "cell_type": "code",
   "execution_count": 77,
   "metadata": {},
   "outputs": [
    {
     "name": "stderr",
     "output_type": "stream",
     "text": [
      "/Users/orange/opt/anaconda3/lib/python3.7/site-packages/ipykernel_launcher.py:1: UserWarning: Boolean Series key will be reindexed to match DataFrame index.\n",
      "  \"\"\"Entry point for launching an IPython kernel.\n",
      "ic| f: 'income'\n",
      "ic| values: {'+10'}\n",
      "ic| sub_spliter_1: [1, 0, 0, 0]\n",
      "ic| probs: [0.75, 0.25]\n",
      "ic| entropy_1: 0.5623351446188083\n",
      "ic| sub_spliter_2: []\n",
      "ic| probs: []\n",
      "ic| entropy_2: 0\n",
      "ic| entropy_v: 0.5623351446188083\n",
      "ic| f: 'family_number'\n",
      "ic| values: {1}\n",
      "ic| sub_spliter_1: [1, 0, 0, 0]\n",
      "ic| probs: [0.75, 0.25]\n",
      "ic| entropy_1: 0.5623351446188083\n",
      "ic| sub_spliter_2: []\n",
      "ic| probs: []\n",
      "ic| entropy_2:"
     ]
    },
    {
     "name": "stdout",
     "output_type": "stream",
     "text": [
      "{'income', 'family_number', 'gender'}\n",
      "inf\n"
     ]
    },
    {
     "name": "stderr",
     "output_type": "stream",
     "text": [
      " 0\n",
      "ic| entropy_v: 0.5623351446188083\n",
      "ic| f: 'gender'\n",
      "ic| values: {'M', 'F'}\n",
      "ic| sub_spliter_1: [0, 0]\n",
      "ic| probs: [1.0]\n",
      "ic| entropy_1: -0.0\n",
      "ic| sub_spliter_2: [1, 0]\n",
      "ic| probs: [0.5, 0.5]\n",
      "ic| entropy_2: 0.6931471805599453\n",
      "ic| entropy_v: 0.6931471805599453\n",
      "ic| sub_spliter_1: [1, 0]\n",
      "ic| probs: [0.5, 0.5]\n",
      "ic| entropy_1: 0.6931471805599453\n",
      "ic| sub_spliter_2: [0, 0]\n",
      "ic| probs: [1.0]\n",
      "ic| entropy_2: -0.0\n",
      "ic| entropy_v: 0.6931471805599453\n"
     ]
    },
    {
     "name": "stdout",
     "output_type": "stream",
     "text": [
      "spliter is: ('family_number', 1)\n",
      "the min entropy is: 0.5623351446188083\n"
     ]
    },
    {
     "data": {
      "text/plain": [
       "('family_number', 1)"
      ]
     },
     "execution_count": 77,
     "metadata": {},
     "output_type": "execute_result"
    }
   ],
   "source": [
    "find_the_optimal_spilter(dataset[dataset['family_number'] != 2][dataset['income'] == '+10'], 'bought')"
   ]
  },
  {
   "cell_type": "code",
   "execution_count": null,
   "metadata": {},
   "outputs": [],
   "source": []
  },
  {
   "cell_type": "markdown",
   "metadata": {},
   "source": [
    "#### 4. Finish the K-Means using 2-D matplotlib (8 points)"
   ]
  },
  {
   "cell_type": "markdown",
   "metadata": {},
   "source": [
    "<评阅点>\n",
    "> + 是否完成了KMeans模型，基于scikit-learning (3')\n",
    "+ 是否完成了可视化任务（5'）"
   ]
  },
  {
   "cell_type": "code",
   "execution_count": 33,
   "metadata": {},
   "outputs": [],
   "source": [
    "from sklearn.cluster import KMeans"
   ]
  },
  {
   "cell_type": "code",
   "execution_count": 34,
   "metadata": {},
   "outputs": [],
   "source": [
    "X1 = [random.randint(0, 100) for _ in range(100)]\n",
    "X2 = [random.randint(0, 100) for _ in range(100)]"
   ]
  },
  {
   "cell_type": "code",
   "execution_count": 35,
   "metadata": {},
   "outputs": [
    {
     "data": {
      "text/plain": [
       "<matplotlib.collections.PathCollection at 0x1a16fc36d0>"
      ]
     },
     "execution_count": 35,
     "metadata": {},
     "output_type": "execute_result"
    },
    {
     "data": {
      "image/png": "[encoded data removed]",
      "text/plain": [
       "<Figure size 432x288 with 1 Axes>"
      ]
     },
     "metadata": {
      "needs_background": "light"
     },
     "output_type": "display_data"
    }
   ],
   "source": [
    "plt.scatter(X1, X2)"
   ]
  },
  {
   "cell_type": "code",
   "execution_count": 36,
   "metadata": {},
   "outputs": [],
   "source": [
    "tranning_data = [[x1, x2] for x1, x2 in zip(X1, X2)]"
   ]
  },
  {
   "cell_type": "code",
   "execution_count": 37,
   "metadata": {},
   "outputs": [],
   "source": [
    "cluster = KMeans(n_clusters=6, max_iter=500)"
   ]
  },
  {
   "cell_type": "code",
   "execution_count": 38,
   "metadata": {},
   "outputs": [
    {
     "data": {
      "text/plain": [
       "KMeans(algorithm='auto', copy_x=True, init='k-means++', max_iter=500,\n",
       "       n_clusters=6, n_init=10, n_jobs=None, precompute_distances='auto',\n",
       "       random_state=None, tol=0.0001, verbose=0)"
      ]
     },
     "execution_count": 38,
     "metadata": {},
     "output_type": "execute_result"
    }
   ],
   "source": [
    "cluster.fit(tranning_data)\n",
    "#fit()简单来说，就是求得训练集X的均值啊，方差啊，最大值啊，最小值啊这些训练集X固有的属性。可以理解为一个训练过程"
   ]
  },
  {
   "cell_type": "code",
   "execution_count": 39,
   "metadata": {},
   "outputs": [
    {
     "data": {
      "text/plain": [
       "array([[82.23529412, 75.52941176],\n",
       "       [65.7826087 , 19.08695652],\n",
       "       [92.85714286, 32.57142857],\n",
       "       [38.        , 53.57142857],\n",
       "       [14.73333333, 73.26666667],\n",
       "       [19.11764706, 15.70588235]])"
      ]
     },
     "execution_count": 39,
     "metadata": {},
     "output_type": "execute_result"
    }
   ],
   "source": [
    "cluster.cluster_centers_"
   ]
  },
  {
   "cell_type": "code",
   "execution_count": 40,
   "metadata": {},
   "outputs": [
    {
     "data": {
      "text/plain": [
       "array([1, 2, 0, 3, 1, 5, 5, 2, 4, 0, 0, 0, 3, 2, 1, 3, 2, 1, 0, 4, 4, 5,\n",
       "       3, 0, 1, 5, 5, 1, 1, 5, 1, 1, 5, 1, 2, 0, 5, 4, 1, 3, 4, 1, 0, 0,\n",
       "       3, 2, 1, 1, 0, 3, 0, 1, 4, 4, 1, 0, 5, 3, 5, 4, 1, 2, 1, 2, 2, 1,\n",
       "       3, 3, 5, 1, 5, 0, 3, 4, 2, 5, 5, 5, 1, 3, 4, 2, 4, 5, 3, 0, 2, 1,\n",
       "       1, 4, 2, 4, 4, 5, 3, 2, 0, 0, 0, 4], dtype=int32)"
      ]
     },
     "execution_count": 40,
     "metadata": {},
     "output_type": "execute_result"
    }
   ],
   "source": [
    "cluster.labels_"
   ]
  },
  {
   "cell_type": "code",
   "execution_count": 41,
   "metadata": {},
   "outputs": [],
   "source": [
    "from collections import defaultdict"
   ]
  },
  {
   "cell_type": "code",
   "execution_count": 42,
   "metadata": {},
   "outputs": [],
   "source": [
    "centers = defaultdict(list) #defaultdict的作用是在于，当字典里的key不存在但被查找时，返回的不是keyError而是一个默认值"
   ]
  },
  {
   "cell_type": "code",
   "execution_count": 43,
   "metadata": {},
   "outputs": [],
   "source": [
    "for label, location in zip(cluster.labels_, tranning_data):\n",
    "    centers[label].append(location)"
   ]
  },
  {
   "cell_type": "code",
   "execution_count": 44,
   "metadata": {},
   "outputs": [
    {
     "data": {
      "image/png": "[encoded data removed]",
      "text/plain": [
       "<Figure size 432x288 with 1 Axes>"
      ]
     },
     "metadata": {
      "needs_background": "light"
     },
     "output_type": "display_data"
    }
   ],
   "source": [
    "color = ['red', 'green', 'grey', 'black', 'yellow', 'orange']\n",
    "\n",
    "for i, c in enumerate(centers): #enumerate() 函数用于将一个可遍历的数据对象(如列表、元组或字符串)组合为一个索引序列，同时列出数据和数据下标，一般用在 for 循环当中。\n",
    "    for location in centers[c]:\n",
    "        plt.scatter(*location, c=color[i])\n",
    "\n",
    "for center in cluster.cluster_centers_:\n",
    "    plt.scatter(*center, s=100)"
   ]
  },
  {
   "cell_type": "markdown",
   "metadata": {},
   "source": [
    "## Part-2 Question and Answer 问答"
   ]
  },
  {
   "cell_type": "markdown",
   "metadata": {},
   "source": [
    "#### 1. What's the *model*? why  all the models are wrong, but some are useful? (5 points) "
   ]
  },
  {
   "cell_type": "markdown",
   "metadata": {},
   "source": [
    "Ans:"
   ]
  },
  {
   "cell_type": "markdown",
   "metadata": {},
   "source": [
    "<评阅点>\n",
    "> + 对模型的理解是否正确,对模型的抽象性是否正确(5')"
   ]
  },
  {
   "cell_type": "markdown",
   "metadata": {},
   "source": [
    "所谓model是对现实的简化，但不能完美的解释所有的现象，所以没有完全正确的模型，但在特定假设条件下，这个model就是对的，可以用来解决问题。"
   ]
  },
  {
   "cell_type": "markdown",
   "metadata": {},
   "source": [
    "#### 2. What's the underfitting and overfitting? List the reasons that could make model overfitting or underfitting. (10 points)"
   ]
  },
  {
   "cell_type": "markdown",
   "metadata": {},
   "source": [
    "Ans:"
   ]
  },
  {
   "cell_type": "markdown",
   "metadata": {},
   "source": [
    "<评阅点>\n",
    "> + 对过拟合和欠拟合的理解是否正确 (3')\n",
    "+ 对欠拟合产生的原因是否理解正确(2')\n",
    "+ 对过拟合产生的原因是否理解正确(5')"
   ]
  },
  {
   "cell_type": "markdown",
   "metadata": {},
   "source": [
    "过拟合(overfitting)是在模型参数拟合过程中的问题，由于训练数据包含抽样误差，训练时，复杂的模型将抽样误差也考虑在内，将抽样误差也进行了很好的拟合。一味追求提高对训练数据的预测能力，所得到模型的复杂度往往比真实模型要高。\n",
    "欠拟合(underfitting)就是学习器没有很好地学到训练样本的一般性质，不能够很好地拟合数据，所以不论在训练数据还是测试数据中表现都很差。当模型过于简单时会发生欠拟合，由于太少的特征或太多的正则化而导致，这使得从数据集中学习变得不灵活。"
   ]
  },
  {
   "cell_type": "markdown",
   "metadata": {},
   "source": [
    "#### 3. What's the precision, recall, AUC, F1, F2score. What are they mainly target on? (12')"
   ]
  },
  {
   "cell_type": "markdown",
   "metadata": {},
   "source": [
    "Ans:"
   ]
  },
  {
   "cell_type": "markdown",
   "metadata": {},
   "source": [
    "<评阅点>\n",
    "> + 对precision, recall, AUC, F1, F2 理解是否正确(6‘)\n",
    "+ 对precision, recall, AUC, F1, F2的使用侧重点是否理解正确 (6’)"
   ]
  },
  {
   "cell_type": "markdown",
   "metadata": {},
   "source": [
    "precision：准确率，所有‘是’的预测且正确的个数/所有‘是’的预测个数。\n",
    "recall：召回率，所有‘是’的预测且正确的个数/所有真正标签是‘是’的个数。\n",
    "Precision和Recall这两者往往是相互矛盾的。\n",
    "F1 Score，是统计学中用来衡量二分类模型精确度的一种指标。它同时兼顾了分类模型的精确率和召回率。召回率和精确率都很重要，权重相同。\n",
    "F2 Score，则认为召回率更加重要。\n",
    "AUC（Area Under Curve）被定义为ROC曲线下的面积(ROC的积分)，通常大于0.5小于1。随机挑选一个正样本以及一个负样本，分类器判定正样本的值高于负样本的概率就是 AUC 值。AUC值(面积)越大的分类器，性能越好。"
   ]
  },
  {
   "cell_type": "markdown",
   "metadata": {},
   "source": [
    "#### 4. Based on our course and yourself mind, what's the machine learning?  (8')"
   ]
  },
  {
   "cell_type": "markdown",
   "metadata": {},
   "source": [
    "Ans:机器学习相对传统编程方法而言，其优势在于首先可以通过机器学习算法简化代码，提高代码的执行能力，其次对于采用传统方法无法解决的问题可以通过机器学习技术找到一个解决方案。再者，机器学习可以适应新的数据的变化，就是可以根据环境的不同实现系统个性化。最后，可以通过机器学习算法从海量的数据中寻找数据的潜在的规律和价值。"
   ]
  },
  {
   "cell_type": "markdown",
   "metadata": {},
   "source": [
    "<评阅点> 开放式问题，是否能说出来机器学习这种思维方式和传统的分析式编程的区别（8'）"
   ]
  },
  {
   "cell_type": "markdown",
   "metadata": {},
   "source": [
    "#### 5. \"正确定义了机器学习模型的评价标准(evaluation)， 问题基本上就已经解决一半\". 这句话是否正确？你是怎么看待的？ (8‘)"
   ]
  },
  {
   "cell_type": "markdown",
   "metadata": {},
   "source": [
    "这句话是正确的。模型评估很重要，因为一般来说，我们针对一个问题会有很多个模型可以解决，那么我们应该用哪个模型？在测试模型的泛化能力时，我们怎么定义这个模型的泛化能力好不好，或者说我们怎么判断得到的模型好不好，下一次训练会不会比上一次训练得到的模型更好，这些都需要一些指标去指出当下的模型的性能。这就是模型评价的意义所在。"
   ]
  },
  {
   "cell_type": "markdown",
   "metadata": {},
   "source": [
    "<评阅点> 开放式问题，主要看能理解评价指标对机器学习模型的重要性."
   ]
  },
  {
   "cell_type": "markdown",
   "metadata": {},
   "source": [
    "## Part-03 Programming Practice 编程练习"
   ]
  },
  {
   "cell_type": "markdown",
   "metadata": {},
   "source": [
    "1. In our course and previous practice, we complete some importance components of Decision Tree. In this problem, you need to build a **completed** Decision Tree Model. You show finish a `predicate()` function, which accepts three parameters **<gender, income, family_number>**, and outputs the predicated 'bought': 1 or 0.  (20 points)"
   ]
  },
  {
   "cell_type": "code",
   "execution_count": 90,
   "metadata": {},
   "outputs": [],
   "source": [
    "# you code here\n",
    "def probability(elements, value):\n",
    "    counter = Counter(elements)\n",
    "    probs = counter[value] / len(elements)\n",
    "    return probs\n",
    "def subspilter(training_data, target):\n",
    "    return training_data[target].tolist()\n",
    "def predicate(gender, income, family_number):\n",
    "    dic = {'gender': gender, 'income': income, 'family_number': family_number}\n",
    "    bought = 0\n",
    "    spilter_ar = []\n",
    "    training_data = dataset\n",
    "    while True:\n",
    "        optimal_spilter = find_the_optimal_spilter(training_data=training_data, target='bought')\n",
    "        spilter_key, spilter_value = optimal_spilter[0], optimal_spilter[1]\n",
    "        if spilter_key in spilter_ar:\n",
    "            break\n",
    "        else:\n",
    "            if dic.get(spilter_key) == spilter_value:\n",
    "                optimal_spileter = training_data[training_data[spilter_key] == spilter_value]\n",
    "                prob = probability(subspilter(optimal_spileter, 'bought'), 1)\n",
    "                if prob > 0.5:\n",
    "                    bought = 1\n",
    "                    break\n",
    "        training_data = training_data[training_data[spilter_key] != spilter_value]\n",
    "    return bought"
   ]
  },
  {
   "cell_type": "code",
   "execution_count": 91,
   "metadata": {},
   "outputs": [
    {
     "name": "stderr",
     "output_type": "stream",
     "text": [
      "ic| f: 'income'\n",
      "ic| values: {'+10', '-10'}\n",
      "ic| sub_spliter_1: [1, 1, 0, 0, 0]\n",
      "ic| probs: [0.6, 0.4]\n",
      "ic| entropy_1: 0.6730116670092565\n",
      "ic| sub_spliter_2: [1, 1]\n",
      "ic| probs: [1.0]\n",
      "ic| entropy_2: -0.0\n",
      "ic| entropy_v: 0.6730116670092565\n",
      "ic| sub_spliter_1: [1, 1]\n",
      "ic| probs: [1.0]\n",
      "ic| entropy_1: -0.0\n",
      "ic| sub_spliter_2: [1, 1, 0, 0, 0]\n",
      "ic| probs: [0.6, 0.4]\n",
      "ic| entropy_2: 0.6730116670092565\n",
      "ic| entropy_v: 0.6730116670092565\n",
      "ic| f: 'family_number'\n",
      "ic|"
     ]
    },
    {
     "name": "stdout",
     "output_type": "stream",
     "text": [
      "{'income', 'family_number', 'gender'}\n",
      "inf\n"
     ]
    },
    {
     "name": "stderr",
     "output_type": "stream",
     "text": [
      " values: {1, 2}\n",
      "ic| sub_spliter_1: [1, 1, 0, 0, 0]\n",
      "ic| probs: [0.6, 0.4]\n",
      "ic| entropy_1: 0.6730116670092565\n",
      "ic| sub_spliter_2: [1, 1]\n",
      "ic| probs: [1.0]\n",
      "ic| entropy_2: -0.0\n",
      "ic| entropy_v: 0.6730116670092565\n",
      "ic| sub_spliter_1: [1, 1]\n",
      "ic| probs: [1.0]\n",
      "ic| entropy_1: -0.0\n",
      "ic| sub_spliter_2: [1, 1, 0, 0, 0]\n",
      "ic| probs: [0.6, 0.4]\n",
      "ic| entropy_2: 0.6730116670092565\n",
      "ic| entropy_v: 0.6730116670092565\n",
      "ic| f: 'gender'\n",
      "ic| values: {'M', 'F'}\n",
      "ic| sub_spliter_1: [0, 0, 1]\n",
      "ic| probs: [0.6666666666666666, 0.3333333333333333]\n",
      "ic| entropy_1: 0.6365141682948128\n",
      "ic| sub_spliter_2: [1, 1, 1, 0]\n",
      "ic| probs: [0.25, 0.75]\n",
      "ic| entropy_2: 0.5623351446188083\n",
      "ic| entropy_v: 1.198849312913621\n",
      "ic| sub_spliter_1: [1, 1, 1, 0]\n",
      "ic| probs: [0.25, 0.75]\n",
      "ic| entropy_1: 0.5623351446188083\n",
      "ic| sub_spliter_2: [0, 0, 1]\n",
      "ic| probs: [0.6666666666666666, 0.3333333333333333]\n",
      "ic| entropy_2: 0.6365141682948128\n",
      "ic| entropy_v: 1.198849312913621\n",
      "ic| f: 'income'\n",
      "ic| values: {'+10', '-10'}\n",
      "ic| sub_spliter_1: [1, 0, 0, 0]\n",
      "ic| probs: [0.75, 0.25]\n",
      "ic| entropy_1: 0.5623351446188083\n",
      "ic| sub_spliter_2: [1]\n",
      "ic| probs: [1.0]\n",
      "ic| entropy_2: -0.0\n",
      "ic| entropy_v: 0.5623351446188083\n",
      "ic| sub_spliter_1: [1]\n"
     ]
    },
    {
     "name": "stdout",
     "output_type": "stream",
     "text": [
      "spliter is: ('family_number', 2)\n",
      "the min entropy is: 0.6730116670092565\n",
      "{'income', 'family_number', 'gender'}\n",
      "inf\n"
     ]
    },
    {
     "name": "stderr",
     "output_type": "stream",
     "text": [
      "ic| probs: [1.0]\n",
      "ic| entropy_1: -0.0\n",
      "ic| sub_spliter_2: [1, 0, 0, 0]\n",
      "ic| probs: [0.75, 0.25]\n",
      "ic| entropy_2: 0.5623351446188083\n",
      "ic| entropy_v: 0.5623351446188083\n",
      "ic| f: 'family_number'\n",
      "ic| values: {1}\n",
      "ic| sub_spliter_1: [1, 1, 0, 0, 0]\n",
      "ic| probs: [0.6, 0.4]\n",
      "ic| entropy_1: 0.6730116670092565\n",
      "ic| sub_spliter_2: []\n",
      "ic| probs: []\n",
      "ic| entropy_2: 0\n",
      "ic| entropy_v: 0.6730116670092565\n",
      "ic| f: 'gender'\n",
      "ic| values: {'M', 'F'}\n",
      "ic| sub_spliter_1: [0, 0]\n",
      "ic| probs: [1.0]\n",
      "ic| entropy_1: -0.0\n",
      "ic| sub_spliter_2: [1, 1, 0]\n",
      "ic| probs: [0.3333333333333333, 0.6666666666666666]\n",
      "ic| entropy_2: 0.6365141682948128\n",
      "ic| entropy_v: 0.6365141682948128\n",
      "ic| sub_spliter_1: [1, 1, 0]\n",
      "ic| probs: [0.3333333333333333, 0.6666666666666666]\n",
      "ic| entropy_1: 0.6365141682948128\n",
      "ic| sub_spliter_2: [0, 0]\n",
      "ic| probs: [1.0]\n",
      "ic| entropy_2: -0.0\n",
      "ic| entropy_v: 0.6365141682948128\n"
     ]
    },
    {
     "name": "stdout",
     "output_type": "stream",
     "text": [
      "spliter is: ('income', '-10')\n",
      "the min entropy is: 0.5623351446188083\n"
     ]
    },
    {
     "data": {
      "text/plain": [
       "1"
      ]
     },
     "execution_count": 91,
     "metadata": {},
     "output_type": "execute_result"
    }
   ],
   "source": [
    "predicate('M', '-10', 1)"
   ]
  },
  {
   "cell_type": "markdown",
   "metadata": {},
   "source": [
    "<评阅点>\n",
    "> + 是否将之前的决策树模型的部分进行合并组装， predicate函数能够顺利运行(8')\n",
    "+ 是够能够输入未曾见过的X变量，例如gender, income, family_number 分别是： <M, -10, 1>, 模型能够预测出结果 (12')"
   ]
  },
  {
   "cell_type": "markdown",
   "metadata": {},
   "source": [
    "2. 将上一节课(第二节课)的线性回归问题中的Loss函数改成\"绝对值\"，并且改变其偏导的求值方式，观察其结果的变化。(19 point)"
   ]
  },
  {
   "cell_type": "code",
   "execution_count": 5,
   "metadata": {},
   "outputs": [],
   "source": [
    "# you code here"
   ]
  },
  {
   "cell_type": "code",
   "execution_count": 92,
   "metadata": {},
   "outputs": [],
   "source": [
    "from sklearn.datasets import load_boston\n",
    "import random"
   ]
  },
  {
   "cell_type": "code",
   "execution_count": 93,
   "metadata": {},
   "outputs": [],
   "source": [
    "dataset = load_boston()"
   ]
  },
  {
   "cell_type": "code",
   "execution_count": 94,
   "metadata": {},
   "outputs": [],
   "source": [
    "x,y=dataset['data'],dataset['target']"
   ]
  },
  {
   "cell_type": "code",
   "execution_count": 95,
   "metadata": {},
   "outputs": [],
   "source": [
    "X_rm = x[:,5]"
   ]
  },
  {
   "cell_type": "code",
   "execution_count": 104,
   "metadata": {},
   "outputs": [
    {
     "data": {
      "text/plain": [
       "<matplotlib.collections.PathCollection at 0x1a19c85f90>"
      ]
     },
     "execution_count": 104,
     "metadata": {},
     "output_type": "execute_result"
    },
    {
     "data": {
      "image/png": "[encoded data removed]",
      "text/plain": [
       "<Figure size 432x288 with 1 Axes>"
      ]
     },
     "metadata": {
      "needs_background": "light"
     },
     "output_type": "display_data"
    }
   ],
   "source": [
    "plt.scatter(X_rm,y)"
   ]
  },
  {
   "cell_type": "code",
   "execution_count": 96,
   "metadata": {},
   "outputs": [],
   "source": [
    "#define target function\n",
    "def price(rm, k, b):\n",
    "    return k * rm + b"
   ]
  },
  {
   "cell_type": "code",
   "execution_count": 97,
   "metadata": {},
   "outputs": [],
   "source": [
    "# define loss function \n",
    "def loss(y,y_hat):\n",
    "    return sum(abs(y_i - y_hat_i) for y_i, y_hat_i in zip(list(y),list(y_hat)))/len(list(y))"
   ]
  },
  {
   "cell_type": "code",
   "execution_count": 109,
   "metadata": {},
   "outputs": [],
   "source": [
    "# define partial derivative \n",
    "def partial_derivative_k(x, y, y_hat): \n",
    "    n = len(y)\n",
    "    gradient = 0\n",
    "    for x_i, y_i, y_hat_i in zip(list(x),list(y),list(y_hat)):\n",
    "        if y_i > y_hat_i:\n",
    "            gradient += (-x_i)\n",
    "        else:\n",
    "            gradient += x_i\n",
    "    return gradient / n\n",
    "\n",
    "def partial_derivative_b(y, y_hat):\n",
    "    n = len(y)\n",
    "    gradient = 0\n",
    "    for y_i, y_hat_i in zip(list(y),list(y_hat)):\n",
    "        if y_i > y_hat_i:\n",
    "            gradient += -1\n",
    "        else:\n",
    "            gradient += 1\n",
    "    return gradient / n"
   ]
  },
  {
   "cell_type": "code",
   "execution_count": 110,
   "metadata": {},
   "outputs": [
    {
     "name": "stdout",
     "output_type": "stream",
     "text": [
      "Iteration 0, the loss is 456.91937244410985, parameters k is -73.06834293944011 and b is 24.82125454401863\n",
      "Iteration 1, the loss is 456.8788758147268, parameters k is -73.06205830505276 and b is 24.82225454401863\n",
      "Iteration 2, the loss is 456.83837918534476, parameters k is -73.0557736706654 and b is 24.82325454401863\n",
      "Iteration 3, the loss is 456.7978825559615, parameters k is -73.04948903627805 and b is 24.824254544018633\n",
      "Iteration 4, the loss is 456.757385926579, parameters k is -73.04320440189069 and b is 24.825254544018634\n",
      "Iteration 5, the loss is 456.7168892971966, parameters k is -73.03691976750333 and b is 24.826254544018635\n",
      "Iteration 6, the loss is 456.6763926678139, parameters k is -73.03063513311598 and b is 24.827254544018636\n",
      "Iteration 7, the loss is 456.6358960384311, parameters k is -73.02435049872862 and b is 24.828254544018638\n",
      "Iteration 8, the loss is 456.5953994090487, parameters k is -73.01806586434127 and b is 24.82925454401864\n",
      "Iteration 9, the loss is 456.5549027796659, parameters k is -73.01178122995391 and b is 24.83025454401864\n",
      "Iteration 10, the loss is 456.51440615028304, parameters k is -73.00549659556656 and b is 24.83125454401864\n",
      "Iteration 11, the loss is 456.47390952089995, parameters k is -72.9992119611792 and b is 24.832254544018642\n",
      "Iteration 12, the loss is 456.4334128915171, parameters k is -72.99292732679184 and b is 24.833254544018644\n",
      "Iteration 13, the loss is 456.39291626213526, parameters k is -72.98664269240449 and b is 24.834254544018645\n",
      "Iteration 14, the loss is 456.3524196327516, parameters k is -72.98035805801713 and b is 24.835254544018646\n",
      "Iteration 15, the loss is 456.3119230033691, parameters k is -72.97407342362978 and b is 24.836254544018647\n",
      "Iteration 16, the loss is 456.2714263739862, parameters k is -72.96778878924242 and b is 24.83725454401865\n",
      "Iteration 17, the loss is 456.2309297446041, parameters k is -72.96150415485506 and b is 24.83825454401865\n",
      "Iteration 18, the loss is 456.1904331152212, parameters k is -72.95521952046771 and b is 24.83925454401865\n",
      "Iteration 19, the loss is 456.14993648583817, parameters k is -72.94893488608035 and b is 24.840254544018652\n",
      "Iteration 20, the loss is 456.1094398564557, parameters k is -72.942650251693 and b is 24.841254544018653\n",
      "Iteration 21, the loss is 456.0689432270734, parameters k is -72.93636561730564 and b is 24.842254544018655\n",
      "Iteration 22, the loss is 456.0284465976905, parameters k is -72.93008098291828 and b is 24.843254544018656\n",
      "Iteration 23, the loss is 455.9879499683075, parameters k is -72.92379634853093 and b is 24.844254544018657\n",
      "Iteration 24, the loss is 455.94745333892473, parameters k is -72.91751171414357 and b is 24.84525454401866\n",
      "Iteration 25, the loss is 455.90695670954227, parameters k is -72.91122707975622 and b is 24.84625454401866\n",
      "Iteration 26, the loss is 455.8664600801592, parameters k is -72.90494244536886 and b is 24.84725454401866\n",
      "Iteration 27, the loss is 455.8259634507766, parameters k is -72.8986578109815 and b is 24.848254544018662\n",
      "Iteration 28, the loss is 455.7854668213941, parameters k is -72.89237317659415 and b is 24.849254544018663\n",
      "Iteration 29, the loss is 455.744970192011, parameters k is -72.88608854220679 and b is 24.850254544018664\n",
      "Iteration 30, the loss is 455.7044735626283, parameters k is -72.87980390781944 and b is 24.851254544018666\n",
      "Iteration 31, the loss is 455.66397693324603, parameters k is -72.87351927343208 and b is 24.852254544018667\n",
      "Iteration 32, the loss is 455.6234803038631, parameters k is -72.86723463904472 and b is 24.853254544018668\n",
      "Iteration 33, the loss is 455.5829836744805, parameters k is -72.86095000465737 and b is 24.85425454401867\n",
      "Iteration 34, the loss is 455.5424870450972, parameters k is -72.85466537027001 and b is 24.85525454401867\n",
      "Iteration 35, the loss is 455.50199041571534, parameters k is -72.84838073588266 and b is 24.85625454401867\n",
      "Iteration 36, the loss is 455.46149378633237, parameters k is -72.8420961014953 and b is 24.857254544018673\n",
      "Iteration 37, the loss is 455.42099715695014, parameters k is -72.83581146710794 and b is 24.858254544018674\n",
      "Iteration 38, the loss is 455.38050052756677, parameters k is -72.82952683272059 and b is 24.859254544018675\n",
      "Iteration 39, the loss is 455.34000389818414, parameters k is -72.82324219833323 and b is 24.860254544018677\n",
      "Iteration 40, the loss is 455.2995072688014, parameters k is -72.81695756394588 and b is 24.861254544018678\n",
      "Iteration 41, the loss is 455.2590106394188, parameters k is -72.81067292955852 and b is 24.86225454401868\n",
      "Iteration 42, the loss is 455.2185140100359, parameters k is -72.80438829517117 and b is 24.86325454401868\n",
      "Iteration 43, the loss is 455.1780173806534, parameters k is -72.79810366078381 and b is 24.86425454401868\n",
      "Iteration 44, the loss is 455.1375207512706, parameters k is -72.79181902639645 and b is 24.865254544018683\n",
      "Iteration 45, the loss is 455.09702412188796, parameters k is -72.7855343920091 and b is 24.866254544018684\n",
      "Iteration 46, the loss is 455.0565274925051, parameters k is -72.77924975762174 and b is 24.867254544018685\n",
      "Iteration 47, the loss is 455.01603086312264, parameters k is -72.77296512323439 and b is 24.868254544018686\n",
      "Iteration 48, the loss is 454.97553423374, parameters k is -72.76668048884703 and b is 24.869254544018688\n",
      "Iteration 49, the loss is 454.93503760435686, parameters k is -72.76039585445967 and b is 24.87025454401869\n",
      "Iteration 50, the loss is 454.8945409749744, parameters k is -72.75411122007232 and b is 24.87125454401869\n",
      "Iteration 51, the loss is 454.8540443455917, parameters k is -72.74782658568496 and b is 24.87225454401869\n",
      "Iteration 52, the loss is 454.8135477162088, parameters k is -72.7415419512976 and b is 24.873254544018693\n",
      "Iteration 53, the loss is 454.773051086826, parameters k is -72.73525731691025 and b is 24.874254544018694\n",
      "Iteration 54, the loss is 454.732554457444, parameters k is -72.7289726825229 and b is 24.875254544018695\n",
      "Iteration 55, the loss is 454.69205782806074, parameters k is -72.72268804813554 and b is 24.876254544018696\n",
      "Iteration 56, the loss is 454.6515611986773, parameters k is -72.71640341374818 and b is 24.877254544018697\n",
      "Iteration 57, the loss is 454.6110645692958, parameters k is -72.71011877936083 and b is 24.8782545440187\n",
      "Iteration 58, the loss is 454.57056793991256, parameters k is -72.70383414497347 and b is 24.8792545440187\n",
      "Iteration 59, the loss is 454.5300713105297, parameters k is -72.69754951058611 and b is 24.8802545440187\n",
      "Iteration 60, the loss is 454.48957468114753, parameters k is -72.69126487619876 and b is 24.881254544018702\n",
      "Iteration 61, the loss is 454.4490780517646, parameters k is -72.6849802418114 and b is 24.882254544018704\n",
      "Iteration 62, the loss is 454.40858142238176, parameters k is -72.67869560742405 and b is 24.883254544018705\n",
      "Iteration 63, the loss is 454.36808479299924, parameters k is -72.67241097303669 and b is 24.884254544018706\n",
      "Iteration 64, the loss is 454.3275881636162, parameters k is -72.66612633864933 and b is 24.885254544018707\n",
      "Iteration 65, the loss is 454.28709153423404, parameters k is -72.65984170426198 and b is 24.88625454401871\n",
      "Iteration 66, the loss is 454.2465949048513, parameters k is -72.65355706987462 and b is 24.88725454401871\n",
      "Iteration 67, the loss is 454.20609827546815, parameters k is -72.64727243548727 and b is 24.88825454401871\n",
      "Iteration 68, the loss is 454.16560164608626, parameters k is -72.64098780109991 and b is 24.889254544018712\n",
      "Iteration 69, the loss is 454.12510501670306, parameters k is -72.63470316671255 and b is 24.890254544018713\n",
      "Iteration 70, the loss is 454.08460838732, parameters k is -72.6284185323252 and b is 24.891254544018715\n",
      "Iteration 71, the loss is 454.04411175793746, parameters k is -72.62213389793784 and b is 24.892254544018716\n",
      "Iteration 72, the loss is 454.0036151285549, parameters k is -72.61584926355049 and b is 24.893254544018717\n",
      "Iteration 73, the loss is 453.963118499172, parameters k is -72.60956462916313 and b is 24.894254544018718\n",
      "Iteration 74, the loss is 453.92262186978894, parameters k is -72.60327999477578 and b is 24.89525454401872\n",
      "Iteration 75, the loss is 453.8821252404064, parameters k is -72.59699536038842 and b is 24.89625454401872\n",
      "Iteration 76, the loss is 453.8416286110239, parameters k is -72.59071072600106 and b is 24.897254544018722\n",
      "Iteration 77, the loss is 453.80113198164133, parameters k is -72.58442609161371 and b is 24.898254544018723\n",
      "Iteration 78, the loss is 453.76063535225813, parameters k is -72.57814145722635 and b is 24.899254544018724\n",
      "Iteration 79, the loss is 453.72013872287596, parameters k is -72.571856822839 and b is 24.900254544018726\n",
      "Iteration 80, the loss is 453.67964209349293, parameters k is -72.56557218845164 and b is 24.901254544018727\n",
      "Iteration 81, the loss is 453.6391454641104, parameters k is -72.55928755406428 and b is 24.902254544018728\n",
      "Iteration 82, the loss is 453.5986488347275, parameters k is -72.55300291967693 and b is 24.90325454401873\n",
      "Iteration 83, the loss is 453.5581522053446, parameters k is -72.54671828528957 and b is 24.90425454401873\n",
      "Iteration 84, the loss is 453.51765557596235, parameters k is -72.54043365090222 and b is 24.90525454401873\n",
      "Iteration 85, the loss is 453.4771589465794, parameters k is -72.53414901651486 and b is 24.906254544018733\n",
      "Iteration 86, the loss is 453.4366623171969, parameters k is -72.5278643821275 and b is 24.907254544018734\n",
      "Iteration 87, the loss is 453.39616568781395, parameters k is -72.52157974774015 and b is 24.908254544018735\n",
      "Iteration 88, the loss is 453.35566905843143, parameters k is -72.51529511335279 and b is 24.909254544018737\n",
      "Iteration 89, the loss is 453.31517242904835, parameters k is -72.50901047896544 and b is 24.910254544018738\n",
      "Iteration 90, the loss is 453.2746757996657, parameters k is -72.50272584457808 and b is 24.91125454401874\n",
      "Iteration 91, the loss is 453.2341791702833, parameters k is -72.49644121019072 and b is 24.91225454401874\n",
      "Iteration 92, the loss is 453.1936825409, parameters k is -72.49015657580337 and b is 24.91325454401874\n",
      "Iteration 93, the loss is 453.15318591151737, parameters k is -72.48387194141601 and b is 24.914254544018743\n",
      "Iteration 94, the loss is 453.11268928213457, parameters k is -72.47758730702866 and b is 24.915254544018744\n",
      "Iteration 95, the loss is 453.0721926527521, parameters k is -72.4713026726413 and b is 24.916254544018745\n",
      "Iteration 96, the loss is 453.0316960233693, parameters k is -72.46501803825394 and b is 24.917254544018746\n",
      "Iteration 97, the loss is 452.9911993939866, parameters k is -72.45873340386659 and b is 24.918254544018748\n",
      "Iteration 98, the loss is 452.95070276460444, parameters k is -72.45244876947923 and b is 24.91925454401875\n",
      "Iteration 99, the loss is 452.9102061352215, parameters k is -72.44616413509188 and b is 24.92025454401875\n",
      "Iteration 100, the loss is 452.86970950583867, parameters k is -72.43987950070452 and b is 24.92125454401875\n",
      "Iteration 101, the loss is 452.8292128764559, parameters k is -72.43359486631716 and b is 24.922254544018752\n",
      "Iteration 102, the loss is 452.78871624707335, parameters k is -72.42731023192981 and b is 24.923254544018754\n",
      "Iteration 103, the loss is 452.7482196176906, parameters k is -72.42102559754245 and b is 24.924254544018755\n",
      "Iteration 104, the loss is 452.70772298830775, parameters k is -72.4147409631551 and b is 24.925254544018756\n",
      "Iteration 105, the loss is 452.6672263589248, parameters k is -72.40845632876774 and b is 24.926254544018757\n",
      "Iteration 106, the loss is 452.6267297295424, parameters k is -72.40217169438039 and b is 24.92725454401876\n",
      "Iteration 107, the loss is 452.58623310015975, parameters k is -72.39588705999303 and b is 24.92825454401876\n",
      "Iteration 108, the loss is 452.5457364707767, parameters k is -72.38960242560567 and b is 24.92925454401876\n",
      "Iteration 109, the loss is 452.50523984139437, parameters k is -72.38331779121832 and b is 24.930254544018762\n",
      "Iteration 110, the loss is 452.4647432120109, parameters k is -72.37703315683096 and b is 24.931254544018763\n",
      "Iteration 111, the loss is 452.42424658262854, parameters k is -72.3707485224436 and b is 24.932254544018765\n",
      "Iteration 112, the loss is 452.3837499532463, parameters k is -72.36446388805625 and b is 24.933254544018766\n",
      "Iteration 113, the loss is 452.3432533238634, parameters k is -72.3581792536689 and b is 24.934254544018767\n",
      "Iteration 114, the loss is 452.3027566944805, parameters k is -72.35189461928154 and b is 24.93525454401877\n",
      "Iteration 115, the loss is 452.2622600650975, parameters k is -72.34560998489418 and b is 24.93625454401877\n",
      "Iteration 116, the loss is 452.2217634357156, parameters k is -72.33932535050683 and b is 24.93725454401877\n",
      "Iteration 117, the loss is 452.1812668063323, parameters k is -72.33304071611947 and b is 24.938254544018772\n",
      "Iteration 118, the loss is 452.1407701769498, parameters k is -72.32675608173211 and b is 24.939254544018773\n",
      "Iteration 119, the loss is 452.1002735475673, parameters k is -72.32047144734476 and b is 24.940254544018774\n",
      "Iteration 120, the loss is 452.05977691818464, parameters k is -72.3141868129574 and b is 24.941254544018776\n",
      "Iteration 121, the loss is 452.01928028880155, parameters k is -72.30790217857005 and b is 24.942254544018777\n",
      "Iteration 122, the loss is 451.97878365941915, parameters k is -72.30161754418269 and b is 24.943254544018778\n",
      "Iteration 123, the loss is 451.9382870300366, parameters k is -72.29533290979533 and b is 24.94425454401878\n",
      "Iteration 124, the loss is 451.89779040065366, parameters k is -72.28904827540798 and b is 24.94525454401878\n",
      "Iteration 125, the loss is 451.8572937712711, parameters k is -72.28276364102062 and b is 24.94625454401878\n",
      "Iteration 126, the loss is 451.8167971418882, parameters k is -72.27647900663327 and b is 24.947254544018783\n",
      "Iteration 127, the loss is 451.7763005125061, parameters k is -72.27019437224591 and b is 24.948254544018784\n",
      "Iteration 128, the loss is 451.73580388312286, parameters k is -72.26390973785855 and b is 24.949254544018785\n",
      "Iteration 129, the loss is 451.6953072537397, parameters k is -72.2576251034712 and b is 24.950254544018787\n",
      "Iteration 130, the loss is 451.6548106243573, parameters k is -72.25134046908384 and b is 24.951254544018788\n",
      "Iteration 131, the loss is 451.6143139949747, parameters k is -72.24505583469649 and b is 24.95225454401879\n",
      "Iteration 132, the loss is 451.57381736559165, parameters k is -72.23877120030913 and b is 24.95325454401879\n",
      "Iteration 133, the loss is 451.5333207362088, parameters k is -72.23248656592177 and b is 24.95425454401879\n",
      "Iteration 134, the loss is 451.49282410682684, parameters k is -72.22620193153442 and b is 24.955254544018793\n",
      "Iteration 135, the loss is 451.4523274774435, parameters k is -72.21991729714706 and b is 24.956254544018794\n",
      "Iteration 136, the loss is 451.41183084806124, parameters k is -72.21363266275971 and b is 24.957254544018795\n",
      "Iteration 137, the loss is 451.37133421867844, parameters k is -72.20734802837235 and b is 24.958254544018796\n",
      "Iteration 138, the loss is 451.3308375892953, parameters k is -72.201063393985 and b is 24.959254544018798\n",
      "Iteration 139, the loss is 451.2903409599124, parameters k is -72.19477875959764 and b is 24.9602545440188\n",
      "Iteration 140, the loss is 451.2498443305298, parameters k is -72.18849412521028 and b is 24.9612545440188\n",
      "Iteration 141, the loss is 451.2093477011477, parameters k is -72.18220949082293 and b is 24.9622545440188\n",
      "Iteration 142, the loss is 451.1688510717648, parameters k is -72.17592485643557 and b is 24.963254544018803\n",
      "Iteration 143, the loss is 451.12835444238186, parameters k is -72.16964022204822 and b is 24.964254544018804\n",
      "Iteration 144, the loss is 451.087857812999, parameters k is -72.16335558766086 and b is 24.965254544018805\n",
      "Iteration 145, the loss is 451.0473611836165, parameters k is -72.1570709532735 and b is 24.966254544018806\n",
      "Iteration 146, the loss is 451.00686455423397, parameters k is -72.15078631888615 and b is 24.967254544018807\n",
      "Iteration 147, the loss is 450.96636792485094, parameters k is -72.14450168449879 and b is 24.96825454401881\n",
      "Iteration 148, the loss is 450.9258712954682, parameters k is -72.13821705011144 and b is 24.96925454401881\n",
      "Iteration 149, the loss is 450.885374666086, parameters k is -72.13193241572408 and b is 24.97025454401881\n",
      "Iteration 150, the loss is 450.84487803670265, parameters k is -72.12564778133672 and b is 24.971254544018812\n",
      "Iteration 151, the loss is 450.80438140732014, parameters k is -72.11936314694937 and b is 24.972254544018814\n",
      "Iteration 152, the loss is 450.7638847779377, parameters k is -72.11307851256201 and b is 24.973254544018815\n",
      "Iteration 153, the loss is 450.7233881485553, parameters k is -72.10679387817466 and b is 24.974254544018816\n",
      "Iteration 154, the loss is 450.6828915191719, parameters k is -72.1005092437873 and b is 24.975254544018817\n",
      "Iteration 155, the loss is 450.6423948897894, parameters k is -72.09422460939994 and b is 24.97625454401882\n",
      "Iteration 156, the loss is 450.6018982604067, parameters k is -72.08793997501259 and b is 24.97725454401882\n",
      "Iteration 157, the loss is 450.5614016310243, parameters k is -72.08165534062523 and b is 24.97825454401882\n",
      "Iteration 158, the loss is 450.5209050016413, parameters k is -72.07537070623788 and b is 24.979254544018822\n",
      "Iteration 159, the loss is 450.48040837225886, parameters k is -72.06908607185052 and b is 24.980254544018823\n",
      "Iteration 160, the loss is 450.439911742876, parameters k is -72.06280143746316 and b is 24.981254544018825\n",
      "Iteration 161, the loss is 450.39941511349275, parameters k is -72.05651680307581 and b is 24.982254544018826\n",
      "Iteration 162, the loss is 450.3589184841109, parameters k is -72.05023216868845 and b is 24.983254544018827\n",
      "Iteration 163, the loss is 450.3184218547278, parameters k is -72.0439475343011 and b is 24.984254544018828\n",
      "Iteration 164, the loss is 450.2779252253445, parameters k is -72.03766289991374 and b is 24.98525454401883\n",
      "Iteration 165, the loss is 450.2374285959625, parameters k is -72.03137826552639 and b is 24.98625454401883\n",
      "Iteration 166, the loss is 450.1969319665794, parameters k is -72.02509363113903 and b is 24.987254544018832\n",
      "Iteration 167, the loss is 450.156435337197, parameters k is -72.01880899675167 and b is 24.988254544018833\n",
      "Iteration 168, the loss is 450.1159387078147, parameters k is -72.01252436236432 and b is 24.989254544018834\n",
      "Iteration 169, the loss is 450.07544207843154, parameters k is -72.00623972797696 and b is 24.990254544018836\n",
      "Iteration 170, the loss is 450.0349454490489, parameters k is -71.9999550935896 and b is 24.991254544018837\n",
      "Iteration 171, the loss is 449.99444881966616, parameters k is -71.99367045920225 and b is 24.992254544018838\n",
      "Iteration 172, the loss is 449.9539521902831, parameters k is -71.9873858248149 and b is 24.99325454401884\n",
      "Iteration 173, the loss is 449.9134555609011, parameters k is -71.98110119042754 and b is 24.99425454401884\n",
      "Iteration 174, the loss is 449.872958931518, parameters k is -71.97481655604018 and b is 24.99525454401884\n",
      "Iteration 175, the loss is 449.83246230213535, parameters k is -71.96853192165283 and b is 24.996254544018843\n",
      "Iteration 176, the loss is 449.7919656727525, parameters k is -71.96224728726547 and b is 24.997254544018844\n",
      "Iteration 177, the loss is 449.75146904336987, parameters k is -71.95596265287811 and b is 24.998254544018845\n",
      "Iteration 178, the loss is 449.7109724139867, parameters k is -71.94967801849076 and b is 24.999254544018847\n",
      "Iteration 179, the loss is 449.6704757846044, parameters k is -71.9433933841034 and b is 25.000254544018848\n",
      "Iteration 180, the loss is 449.6299791552218, parameters k is -71.93710874971605 and b is 25.00125454401885\n",
      "Iteration 181, the loss is 449.58948252583946, parameters k is -71.93082411532869 and b is 25.00225454401885\n",
      "Iteration 182, the loss is 449.5489858964567, parameters k is -71.92453948094133 and b is 25.00325454401885\n",
      "Iteration 183, the loss is 449.50848926707346, parameters k is -71.91825484655398 and b is 25.004254544018853\n",
      "Iteration 184, the loss is 449.4679926376911, parameters k is -71.91197021216662 and b is 25.005254544018854\n",
      "Iteration 185, the loss is 449.4274960083083, parameters k is -71.90568557777927 and b is 25.006254544018855\n",
      "Iteration 186, the loss is 449.3869993789254, parameters k is -71.89940094339191 and b is 25.007254544018856\n",
      "Iteration 187, the loss is 449.34650274954294, parameters k is -71.89311630900455 and b is 25.008254544018858\n",
      "Iteration 188, the loss is 449.30600612016065, parameters k is -71.8868316746172 and b is 25.00925454401886\n",
      "Iteration 189, the loss is 449.2655094907771, parameters k is -71.88054704022984 and b is 25.01025454401886\n",
      "Iteration 190, the loss is 449.22501286139436, parameters k is -71.87426240584249 and b is 25.01125454401886\n",
      "Iteration 191, the loss is 449.1845162320122, parameters k is -71.86797777145513 and b is 25.012254544018862\n",
      "Iteration 192, the loss is 449.1440196026286, parameters k is -71.86169313706777 and b is 25.013254544018864\n",
      "Iteration 193, the loss is 449.10352297324675, parameters k is -71.85540850268042 and b is 25.014254544018865\n",
      "Iteration 194, the loss is 449.0630263438633, parameters k is -71.84912386829306 and b is 25.015254544018866\n",
      "Iteration 195, the loss is 449.0225297144818, parameters k is -71.8428392339057 and b is 25.016254544018867\n",
      "Iteration 196, the loss is 448.98203308509846, parameters k is -71.83655459951835 and b is 25.01725454401887\n",
      "Iteration 197, the loss is 448.9415364557161, parameters k is -71.830269965131 and b is 25.01825454401887\n",
      "Iteration 198, the loss is 448.90103982633326, parameters k is -71.82398533074364 and b is 25.01925454401887\n",
      "Iteration 199, the loss is 448.86054319695023, parameters k is -71.81770069635628 and b is 25.020254544018872\n"
     ]
    }
   ],
   "source": [
    "#initialized parameters\n",
    "\n",
    "k = random.random() * 200 - 100  # -100 100\n",
    "b = random.random() * 200 - 100  # -100 100\n",
    "\n",
    "learning_rate = 1e-3\n",
    "\n",
    "iteration_num = 200 \n",
    "losses = []\n",
    "for i in range(iteration_num):\n",
    "    \n",
    "    price_use_current_parameters = [price(r, k, b) for r in X_rm]  # \\hat{y}\n",
    "    \n",
    "    current_loss = loss(y, price_use_current_parameters)\n",
    "    losses.append(current_loss)\n",
    "    print(\"Iteration {}, the loss is {}, parameters k is {} and b is {}\".format(i,current_loss,k,b))\n",
    "    \n",
    "    k_gradient = partial_derivative_k(X_rm, y, price_use_current_parameters)\n",
    "    b_gradient = partial_derivative_b(y, price_use_current_parameters)\n",
    "    \n",
    "    k = k + (-1 * k_gradient) * learning_rate\n",
    "    b = b + (-1 * b_gradient) * learning_rate\n",
    "best_k = k\n",
    "best_b = b"
   ]
  },
  {
   "cell_type": "code",
   "execution_count": 111,
   "metadata": {},
   "outputs": [
    {
     "data": {
      "text/plain": [
       "[<matplotlib.lines.Line2D at 0x1a1a187350>]"
      ]
     },
     "execution_count": 111,
     "metadata": {},
     "output_type": "execute_result"
    },
    {
     "data": {
      "image/png": "[encoded data removed]",
      "text/plain": [
       "<Figure size 432x288 with 1 Axes>"
      ]
     },
     "metadata": {
      "needs_background": "light"
     },
     "output_type": "display_data"
    }
   ],
   "source": [
    "plt.plot(list(range(iteration_num)),losses)"
   ]
  },
  {
   "cell_type": "code",
   "execution_count": 112,
   "metadata": {},
   "outputs": [
    {
     "data": {
      "text/plain": [
       "<matplotlib.collections.PathCollection at 0x1a1a261e90>"
      ]
     },
     "execution_count": 112,
     "metadata": {},
     "output_type": "execute_result"
    },
    {
     "data": {
      "image/png": "[encoded data removed]",
      "text/plain": [
       "<Figure size 432x288 with 1 Axes>"
      ]
     },
     "metadata": {
      "needs_background": "light"
     },
     "output_type": "display_data"
    }
   ],
   "source": [
    "price_use_best_parameters = [price(r, best_k, best_b) for r in X_rm]\n",
    "\n",
    "plt.scatter(X_rm,y)\n",
    "plt.scatter(X_rm,price_use_current_parameters)"
   ]
  },
  {
   "cell_type": "markdown",
   "metadata": {},
   "source": [
    "<评阅点>\n",
    "+ 是否将Loss改成了“绝对值”(3')\n",
    "+ 是否完成了偏导的重新定义(5')\n",
    "+ 新的模型Loss是否能够收敛 (11’)"
   ]
  },
  {
   "cell_type": "markdown",
   "metadata": {},
   "source": []
  }
 ],
 "metadata": {
  "kernelspec": {
   "display_name": "Python 3",
   "language": "python",
   "name": "python3"
  },
  "language_info": {
   "codemirror_mode": {
    "name": "ipython",
    "version": 3
   },
   "file_extension": ".py",
   "mimetype": "text/x-python",
   "name": "python",
   "nbconvert_exporter": "python",
   "pygments_lexer": "ipython3",
   "version": "3.7.4"
  }
 },
 "nbformat": 4,
 "nbformat_minor": 2
}
